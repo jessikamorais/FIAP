{
  "nbformat": 4,
  "nbformat_minor": 0,
  "metadata": {
    "colab": {
      "provenance": [],
      "authorship_tag": "ABX9TyP8QmiGcWxB0S4QOazBp+7d",
      "include_colab_link": true
    },
    "kernelspec": {
      "name": "python3",
      "display_name": "Python 3"
    },
    "language_info": {
      "name": "python"
    }
  },
  "cells": [
    {
      "cell_type": "markdown",
      "metadata": {
        "id": "view-in-github",
        "colab_type": "text"
      },
      "source": [
        "<a href=\"https://colab.research.google.com/github/jessikamorais/FIAP/blob/main/projeto_modulo1.ipynb\" target=\"_parent\"><img src=\"https://colab.research.google.com/assets/colab-badge.svg\" alt=\"Open In Colab\"/></a>"
      ]
    },
    {
      "cell_type": "markdown",
      "source": [
        "## Síndrome da Fadiga Crônica (EM/SFC) e Depressão\n",
        "\n",
        "### Fonte de Dados:\n",
        "\n",
        "O conjjunto de dados utilizado é sintetíco, desenvolvimendo para tarefas de classificação entre Encefalomielite Miálgica/Síndrome da Fadiga Crônica (EM/SFC) e Depressão.\n",
        "\n",
        "Este é o primeiro conjunto de dados desse tipo criado especificamente para ajudar iniciantes e pesquisadores a explorar casos complexos de diagnóstico diferencial em condições de saúde mental e crônica.\n",
        "\n",
        "(Falar sobre as duas doenças de forma breve, falar da importância do estudo das mesmas e como elas afetam as pessoas no mundo atual).\n",
        "\n",
        "### Explicação das variáveis:\n",
        "\n",
        "* **age** -\tIdade do paciente\n",
        "* **gender** -\tGenêro (Feminino / Masculino / Outro)\n",
        "* **fatigue_severity_scale_score** -\tEscala de Gravidade da Fadiga (Fatigue Severity Scale - FSS), 0–10\n",
        "* **depression_phq9_score** -\tPHQ-9 Índice de depressão, 0–27\n",
        "* **pem_present\tWhether** - Mal-estar pós-esforço está presente (Post-Exertional Malaise - PEM) is present (Yes/No or 1/0)\n",
        "* **pem_duration_hours** -\tDuração do mal-estar pós-esforço (PEM) em horas\n",
        "* **sleep_quality_index** -\tQualidade do sono (escala de 1 à 10)\n",
        "* **brain_fog_level** -\tNévoa cerebral (1–10)\n",
        "* **physical_pain_score** -\tIntesidade da dor física (1–10)\n",
        "* **stress_level** - Nível de estresse (1–10)\n",
        "* **work_status** -\tStatus de trabalho: Trabalhando / Trabalho parcial / Sem trabalho\n",
        "* **social_activity_level** - Atividade social: Muito baixa – Muito alta\n",
        "* **exercise_frequency** - Frequência de atividade física: Nunca – Diariamente\n",
        "* **meditation_or_mindfulness** - O paciente pratica mindfulness ou meditação? Sim / NãoDoes the patient practice mindfulness or meditation? Yes/No\n",
        "* **hours_of_sleep_per_night** - Duração média do sono por noite\n",
        "* **diagnosis** - Diagnóstico (qual doença o paciente tem, ou possui ambas): ME/CFS, Depressão, Ambos (Variável Target)"
      ],
      "metadata": {
        "id": "nkABRTYXsF1a"
      }
    },
    {
      "cell_type": "code",
      "source": [
        "import pandas as pd # Para trabalhar com dados tabulares\n",
        "# from sklearn.model_selection import train_test_split #separação dos dados\n",
        "# from sklearn.neighbors import KNeighborsClassifier #modelo de machine learning classificação\n",
        "# from sklearn.metrics import accuracy_score #avaliação do modelo\n",
        "# from sklearn.metrics import confusion_matrix, ConfusionMatrixDisplay\n",
        "# from sklearn.metrics import accuracy_score #métrica de avaliação\n",
        "# from sklearn.preprocessing import StandardScaler, MinMaxScaler #Feature Engineer\n",
        "# import matplotlib.pyplot as plt #gráficos\n",
        "# import seaborn as sns #gráficos\n",
        "# import numpy as np #transformação dos dados\n",
        "# import warnings #remoção de avisos"
      ],
      "metadata": {
        "id": "elafn7iqrkCw"
      },
      "execution_count": 1,
      "outputs": []
    },
    {
      "cell_type": "code",
      "source": [
        "dados = pd.read_csv('me_depression_data.csv', sep=',')"
      ],
      "metadata": {
        "id": "mkohJpecrlF2"
      },
      "execution_count": 3,
      "outputs": []
    }
  ]
}