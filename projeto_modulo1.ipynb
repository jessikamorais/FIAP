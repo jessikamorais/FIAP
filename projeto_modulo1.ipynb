{
  "nbformat": 4,
  "nbformat_minor": 0,
  "metadata": {
    "colab": {
      "provenance": [],
      "authorship_tag": "ABX9TyNJgOB3MkyaylBLAbWq/Cyf",
      "include_colab_link": true
    },
    "kernelspec": {
      "name": "python3",
      "display_name": "Python 3"
    },
    "language_info": {
      "name": "python"
    }
  },
  "cells": [
    {
      "cell_type": "markdown",
      "metadata": {
        "id": "view-in-github",
        "colab_type": "text"
      },
      "source": [
        "<a href=\"https://colab.research.google.com/github/jessikamorais/FIAP/blob/main/projeto_modulo1.ipynb\" target=\"_parent\"><img src=\"https://colab.research.google.com/assets/colab-badge.svg\" alt=\"Open In Colab\"/></a>"
      ]
    },
    {
      "cell_type": "markdown",
      "source": [
        "## Síndrome da Fadiga Crônica (EM/SFC) e Depressão\n",
        "\n",
        "A **síndrome de fadiga crônic**a, também conhecida como  **Encefalomielite Miálgica,** é caracterizada por deixar o portador com uma sensação de estar extremamente cansado o tempo todo, mesmo após uma boa noite de sono. Esta condição pode piorar após qualquer tipo de atividade, exercício físico ou mental. A pessoa fica exausta para fazer quase todas as suas atividades diárias, como: tomar banho, ir ao trabalho, fazer serviços domésticos e demais atividades que necessitem siar de casa.\n",
        "\n",
        "Além da fadiga, a doença pode gerar sintomas como: dificuldade para dormir ou acordar, tontura, fraqueza muscular, dor de garganta, problemas digestivos, calafrios, suores noturnos, alergias ou reações alimentares, sensibilidade à luz ou à ruídos, batimentos cardíacos irregulares e falta de ar.\n",
        "\n",
        "A **depressão **é uma doença de humor, que pode causar tristeza profunda ou apatia constante, em que o indivíduo não sente mais prazer ou sentido na vida, com sentimos de culpa, vazio e inutilidade. Em casos mais graves, o portador da doença pode pensar ou realmente atentar contra a própria vida.\n",
        "\n",
        "Na depressão, sintomas como fadiga também podem estar presentes, assim como, problemas de sono (dormir muito ou pouco), falta de energia para realizar tarefas simples,  ansiedade, lapsos de memórias ou concentração, fala ou movimentos lentos, dor sem causa física, problemas digestivos ou cólicas abdominais e inquietação.\n",
        "\n",
        "As duas doenças são crônicas e podem durar anos, com períodos de melhora e outros de piora do quadro. Ambas as condições tem sintomas parecidos, tais como: fadiga, problemas de sono, falta de energia, dor, problemas digestivos, dores de cabeça, lapsos de memória ou dificuldade de concentração. A depender dos sintomas, pode haver dificuldade do diagnóstico correto para o paciente, que pode apresentar uma das comorbidades ou ambas.\n",
        "\n",
        "\n",
        "### Fonte de Dados:\n",
        "\n",
        "O conjunto de dados utilizado é sintetíco, desenvolvimendo para tarefas de classificação das doenças: Encefalomielite Miálgica/Síndrome da Fadiga Crônica (EM/SFC) e/ou Depressão.\n",
        "\n",
        "Este é o primeiro conjunto de dados desse tipo criado especificamente para ajudar iniciantes na área e pesquisadores a explorar casos complexos de diagnóstico em condições mentais e crônicas de saúde.\n",
        "\n",
        "\n",
        "\n",
        "# **Explicação das variáveis presentes nos dados:**\n",
        "\n",
        "* **age** -\tIdade do paciente:\n",
        "    * Variando de 18 à 70 anos.\n",
        "* **gender** -\tGênero:\n",
        "    * Feminio,\n",
        "    * Masculino.\n",
        "* **fatigue_severity_scale_score** -\tEscala de Gravidade da Fadiga;\n",
        "    * Escala de 1 à 10.\n",
        "* **depression_phq9_score** -\tPHQ-9 Índice de depressão, questionário que avalia a gravidade de depressão do paciente em que as questões somam um valor de 1 à 27, e classificam a depressão como a seguir:\n",
        "    * 1-4 - Depressão mínima\n",
        "    * 5-9 - Depressão Leve\n",
        "    * 10-14 - Depressão Moderada\n",
        "    * 15-19 - Depressão Moderadamente Grave\n",
        "    * 19-27 - Depressão grave\n",
        "* **pem_present\tWhether** - Mal-estar pós-esforço está presente?\n",
        "    * Sim,\n",
        "    * Não.\n",
        "* **pem_duration_hours** -\tDuração do mal-estar pós-esforço (PEM) em horas;\n",
        "* **sleep_quality_index** -\tQualidade do sono;\n",
        "    * Escala de 1 à 10.\n",
        "* **brain_fog_level** -\tConfusão mental / Dificuldade de concentração;\n",
        "    * Escala de 1 à 10.\n",
        "* **physical_pain_score** -\tIntesidade da dor física;\n",
        "    * Escala de 1 à 10.\n",
        "* **stress_level** - Nível de estresse\n",
        "    * Escala de 1 à 10.\n",
        "* **work_status** -\tStatus de trabalho:\n",
        "    * Trabalhando,\n",
        "    * Trabalho parcial,\n",
        "    * Sem trabalho.\n",
        "* **social_activity_level** - Nível de atividade social:\n",
        "    * Muito alto,\n",
        "    * Alto,\n",
        "    * Médio,\n",
        "    * Baixo,\n",
        "    * Muito baixo.\n",
        "* **exercise_frequency** - Frequência de atividade física:\n",
        "    * Diariamente,\n",
        "    * Frequentemente,\n",
        "    * Às vezes,\n",
        "    * Raramente,\n",
        "    * Nunca.\n",
        "* **meditation_or_mindfulness** - O paciente pratica mindfulness ou meditação?  \n",
        "    * Sim,\n",
        "    * Não.\n",
        "* **hours_of_sleep_per_night** - Duração média do sono por noite\n",
        "* **diagnosis** - Diagnóstico (qual(is) doença(s) o paciente tem)? **(Variável Target)**\n",
        "    * ME/CFS,\n",
        "    * Depressão,\n",
        "    * Ambas.\n",
        "\n",
        "A base de dados pode ser acessada no seguinte link: [Dados do projeto](https://www.kaggle.com/datasets/storytellerman/mecfs-vs-depression-classification-dataset)"
      ],
      "metadata": {
        "id": "nkABRTYXsF1a"
      }
    },
    {
      "cell_type": "markdown",
      "source": [
        "# **`Importando as bibliotecas`**"
      ],
      "metadata": {
        "id": "inRVr-EKssY5"
      }
    },
    {
      "cell_type": "code",
      "source": [
        "import pandas as pd # Para trabalhar com dados tabulares\n",
        "from sklearn.model_selection import train_test_split #separação dos dados\n",
        "from sklearn.neighbors import KNeighborsClassifier #modelo de machine learning classificação\n",
        "from sklearn.preprocessing import LabelEncoder\n",
        "from sklearn.metrics import accuracy_score #avaliação do modelo\n",
        "from sklearn.metrics import confusion_matrix, ConfusionMatrixDisplay\n",
        "from sklearn.metrics import accuracy_score #métrica de avaliação\n",
        "from sklearn.preprocessing import StandardScaler, MinMaxScaler #Feature Engineer\n",
        "import matplotlib.pyplot as plt #gráficos\n",
        "import seaborn as sns #gráficos\n",
        "import numpy as np #transformação dos dados\n",
        "from sklearn.preprocessing import OrdinalEncoder #TESTE PARA ORDENAÇÃO DE DADOS CATEGÓRICOS\n",
        "from sklearn.model_selection import train_test_split\n",
        "from sklearn.linear_model import LogisticRegression\n"
      ],
      "metadata": {
        "id": "elafn7iqrkCw"
      },
      "execution_count": 1,
      "outputs": []
    },
    {
      "cell_type": "markdown",
      "source": [
        "# **Importando os dados**"
      ],
      "metadata": {
        "id": "GZFF9AFKtA0M"
      }
    },
    {
      "cell_type": "code",
      "source": [
        "data = pd.read_csv('me_depression_data.csv', sep=',')"
      ],
      "metadata": {
        "colab": {
          "base_uri": "https://localhost:8080/",
          "height": 315
        },
        "id": "mkohJpecrlF2",
        "outputId": "c782f54f-294f-4438-d5f0-4144321c42f9"
      },
      "execution_count": 2,
      "outputs": [
        {
          "output_type": "error",
          "ename": "FileNotFoundError",
          "evalue": "[Errno 2] No such file or directory: 'me_depression_data.csv'",
          "traceback": [
            "\u001b[0;31m---------------------------------------------------------------------------\u001b[0m",
            "\u001b[0;31mFileNotFoundError\u001b[0m                         Traceback (most recent call last)",
            "\u001b[0;32m/tmp/ipython-input-456100986.py\u001b[0m in \u001b[0;36m<cell line: 0>\u001b[0;34m()\u001b[0m\n\u001b[0;32m----> 1\u001b[0;31m \u001b[0mdata\u001b[0m \u001b[0;34m=\u001b[0m \u001b[0mpd\u001b[0m\u001b[0;34m.\u001b[0m\u001b[0mread_csv\u001b[0m\u001b[0;34m(\u001b[0m\u001b[0;34m'me_depression_data.csv'\u001b[0m\u001b[0;34m,\u001b[0m \u001b[0msep\u001b[0m\u001b[0;34m=\u001b[0m\u001b[0;34m','\u001b[0m\u001b[0;34m)\u001b[0m\u001b[0;34m\u001b[0m\u001b[0;34m\u001b[0m\u001b[0m\n\u001b[0m",
            "\u001b[0;32m/usr/local/lib/python3.11/dist-packages/pandas/io/parsers/readers.py\u001b[0m in \u001b[0;36mread_csv\u001b[0;34m(filepath_or_buffer, sep, delimiter, header, names, index_col, usecols, dtype, engine, converters, true_values, false_values, skipinitialspace, skiprows, skipfooter, nrows, na_values, keep_default_na, na_filter, verbose, skip_blank_lines, parse_dates, infer_datetime_format, keep_date_col, date_parser, date_format, dayfirst, cache_dates, iterator, chunksize, compression, thousands, decimal, lineterminator, quotechar, quoting, doublequote, escapechar, comment, encoding, encoding_errors, dialect, on_bad_lines, delim_whitespace, low_memory, memory_map, float_precision, storage_options, dtype_backend)\u001b[0m\n\u001b[1;32m   1024\u001b[0m     \u001b[0mkwds\u001b[0m\u001b[0;34m.\u001b[0m\u001b[0mupdate\u001b[0m\u001b[0;34m(\u001b[0m\u001b[0mkwds_defaults\u001b[0m\u001b[0;34m)\u001b[0m\u001b[0;34m\u001b[0m\u001b[0;34m\u001b[0m\u001b[0m\n\u001b[1;32m   1025\u001b[0m \u001b[0;34m\u001b[0m\u001b[0m\n\u001b[0;32m-> 1026\u001b[0;31m     \u001b[0;32mreturn\u001b[0m \u001b[0m_read\u001b[0m\u001b[0;34m(\u001b[0m\u001b[0mfilepath_or_buffer\u001b[0m\u001b[0;34m,\u001b[0m \u001b[0mkwds\u001b[0m\u001b[0;34m)\u001b[0m\u001b[0;34m\u001b[0m\u001b[0;34m\u001b[0m\u001b[0m\n\u001b[0m\u001b[1;32m   1027\u001b[0m \u001b[0;34m\u001b[0m\u001b[0m\n\u001b[1;32m   1028\u001b[0m \u001b[0;34m\u001b[0m\u001b[0m\n",
            "\u001b[0;32m/usr/local/lib/python3.11/dist-packages/pandas/io/parsers/readers.py\u001b[0m in \u001b[0;36m_read\u001b[0;34m(filepath_or_buffer, kwds)\u001b[0m\n\u001b[1;32m    618\u001b[0m \u001b[0;34m\u001b[0m\u001b[0m\n\u001b[1;32m    619\u001b[0m     \u001b[0;31m# Create the parser.\u001b[0m\u001b[0;34m\u001b[0m\u001b[0;34m\u001b[0m\u001b[0m\n\u001b[0;32m--> 620\u001b[0;31m     \u001b[0mparser\u001b[0m \u001b[0;34m=\u001b[0m \u001b[0mTextFileReader\u001b[0m\u001b[0;34m(\u001b[0m\u001b[0mfilepath_or_buffer\u001b[0m\u001b[0;34m,\u001b[0m \u001b[0;34m**\u001b[0m\u001b[0mkwds\u001b[0m\u001b[0;34m)\u001b[0m\u001b[0;34m\u001b[0m\u001b[0;34m\u001b[0m\u001b[0m\n\u001b[0m\u001b[1;32m    621\u001b[0m \u001b[0;34m\u001b[0m\u001b[0m\n\u001b[1;32m    622\u001b[0m     \u001b[0;32mif\u001b[0m \u001b[0mchunksize\u001b[0m \u001b[0;32mor\u001b[0m \u001b[0miterator\u001b[0m\u001b[0;34m:\u001b[0m\u001b[0;34m\u001b[0m\u001b[0;34m\u001b[0m\u001b[0m\n",
            "\u001b[0;32m/usr/local/lib/python3.11/dist-packages/pandas/io/parsers/readers.py\u001b[0m in \u001b[0;36m__init__\u001b[0;34m(self, f, engine, **kwds)\u001b[0m\n\u001b[1;32m   1618\u001b[0m \u001b[0;34m\u001b[0m\u001b[0m\n\u001b[1;32m   1619\u001b[0m         \u001b[0mself\u001b[0m\u001b[0;34m.\u001b[0m\u001b[0mhandles\u001b[0m\u001b[0;34m:\u001b[0m \u001b[0mIOHandles\u001b[0m \u001b[0;34m|\u001b[0m \u001b[0;32mNone\u001b[0m \u001b[0;34m=\u001b[0m \u001b[0;32mNone\u001b[0m\u001b[0;34m\u001b[0m\u001b[0;34m\u001b[0m\u001b[0m\n\u001b[0;32m-> 1620\u001b[0;31m         \u001b[0mself\u001b[0m\u001b[0;34m.\u001b[0m\u001b[0m_engine\u001b[0m \u001b[0;34m=\u001b[0m \u001b[0mself\u001b[0m\u001b[0;34m.\u001b[0m\u001b[0m_make_engine\u001b[0m\u001b[0;34m(\u001b[0m\u001b[0mf\u001b[0m\u001b[0;34m,\u001b[0m \u001b[0mself\u001b[0m\u001b[0;34m.\u001b[0m\u001b[0mengine\u001b[0m\u001b[0;34m)\u001b[0m\u001b[0;34m\u001b[0m\u001b[0;34m\u001b[0m\u001b[0m\n\u001b[0m\u001b[1;32m   1621\u001b[0m \u001b[0;34m\u001b[0m\u001b[0m\n\u001b[1;32m   1622\u001b[0m     \u001b[0;32mdef\u001b[0m \u001b[0mclose\u001b[0m\u001b[0;34m(\u001b[0m\u001b[0mself\u001b[0m\u001b[0;34m)\u001b[0m \u001b[0;34m->\u001b[0m \u001b[0;32mNone\u001b[0m\u001b[0;34m:\u001b[0m\u001b[0;34m\u001b[0m\u001b[0;34m\u001b[0m\u001b[0m\n",
            "\u001b[0;32m/usr/local/lib/python3.11/dist-packages/pandas/io/parsers/readers.py\u001b[0m in \u001b[0;36m_make_engine\u001b[0;34m(self, f, engine)\u001b[0m\n\u001b[1;32m   1878\u001b[0m                 \u001b[0;32mif\u001b[0m \u001b[0;34m\"b\"\u001b[0m \u001b[0;32mnot\u001b[0m \u001b[0;32min\u001b[0m \u001b[0mmode\u001b[0m\u001b[0;34m:\u001b[0m\u001b[0;34m\u001b[0m\u001b[0;34m\u001b[0m\u001b[0m\n\u001b[1;32m   1879\u001b[0m                     \u001b[0mmode\u001b[0m \u001b[0;34m+=\u001b[0m \u001b[0;34m\"b\"\u001b[0m\u001b[0;34m\u001b[0m\u001b[0;34m\u001b[0m\u001b[0m\n\u001b[0;32m-> 1880\u001b[0;31m             self.handles = get_handle(\n\u001b[0m\u001b[1;32m   1881\u001b[0m                 \u001b[0mf\u001b[0m\u001b[0;34m,\u001b[0m\u001b[0;34m\u001b[0m\u001b[0;34m\u001b[0m\u001b[0m\n\u001b[1;32m   1882\u001b[0m                 \u001b[0mmode\u001b[0m\u001b[0;34m,\u001b[0m\u001b[0;34m\u001b[0m\u001b[0;34m\u001b[0m\u001b[0m\n",
            "\u001b[0;32m/usr/local/lib/python3.11/dist-packages/pandas/io/common.py\u001b[0m in \u001b[0;36mget_handle\u001b[0;34m(path_or_buf, mode, encoding, compression, memory_map, is_text, errors, storage_options)\u001b[0m\n\u001b[1;32m    871\u001b[0m         \u001b[0;32mif\u001b[0m \u001b[0mioargs\u001b[0m\u001b[0;34m.\u001b[0m\u001b[0mencoding\u001b[0m \u001b[0;32mand\u001b[0m \u001b[0;34m\"b\"\u001b[0m \u001b[0;32mnot\u001b[0m \u001b[0;32min\u001b[0m \u001b[0mioargs\u001b[0m\u001b[0;34m.\u001b[0m\u001b[0mmode\u001b[0m\u001b[0;34m:\u001b[0m\u001b[0;34m\u001b[0m\u001b[0;34m\u001b[0m\u001b[0m\n\u001b[1;32m    872\u001b[0m             \u001b[0;31m# Encoding\u001b[0m\u001b[0;34m\u001b[0m\u001b[0;34m\u001b[0m\u001b[0m\n\u001b[0;32m--> 873\u001b[0;31m             handle = open(\n\u001b[0m\u001b[1;32m    874\u001b[0m                 \u001b[0mhandle\u001b[0m\u001b[0;34m,\u001b[0m\u001b[0;34m\u001b[0m\u001b[0;34m\u001b[0m\u001b[0m\n\u001b[1;32m    875\u001b[0m                 \u001b[0mioargs\u001b[0m\u001b[0;34m.\u001b[0m\u001b[0mmode\u001b[0m\u001b[0;34m,\u001b[0m\u001b[0;34m\u001b[0m\u001b[0;34m\u001b[0m\u001b[0m\n",
            "\u001b[0;31mFileNotFoundError\u001b[0m: [Errno 2] No such file or directory: 'me_depression_data.csv'"
          ]
        }
      ]
    },
    {
      "cell_type": "markdown",
      "source": [
        "# **Analisando os dados**"
      ],
      "metadata": {
        "id": "xLmHEzcytPVB"
      }
    },
    {
      "cell_type": "markdown",
      "source": [
        "A base de dados utilizada possui uma dimensão de 16 colunas e 1000 linhas de dados. Com dados numéricos e categóricos."
      ],
      "metadata": {
        "id": "G7YGRg4xW0O2"
      }
    },
    {
      "cell_type": "code",
      "source": [
        "data.shape"
      ],
      "metadata": {
        "id": "HHddd_1muS9z"
      },
      "execution_count": null,
      "outputs": []
    },
    {
      "cell_type": "code",
      "source": [
        "data.head(5)"
      ],
      "metadata": {
        "id": "INiJCm0nud8n"
      },
      "execution_count": null,
      "outputs": []
    },
    {
      "cell_type": "code",
      "source": [
        "data.describe()"
      ],
      "metadata": {
        "id": "N2Py-Wg8TQB6"
      },
      "execution_count": null,
      "outputs": []
    },
    {
      "cell_type": "code",
      "source": [
        "data.info()"
      ],
      "metadata": {
        "id": "cs4VzLzj7vDE"
      },
      "execution_count": null,
      "outputs": []
    },
    {
      "cell_type": "markdown",
      "source": [
        "Podemos observar que as únicas variáveis que não possuem valores nulos são: \"age\", \"gender\", \"pem_present\" e \"diagnosis\", possuindo 1000 linhas de informações preenchidas (não nulas).\n",
        "As demais variáveis posssuem valores nulos, que devem ser tratados no decorrer do projeto."
      ],
      "metadata": {
        "id": "--WetNLqxWNu"
      }
    },
    {
      "cell_type": "markdown",
      "source": [
        "# Analisando as variáveis categóricas"
      ],
      "metadata": {
        "id": "CbYXlMaL546s"
      }
    },
    {
      "cell_type": "markdown",
      "source": [
        "As variáveis: \"gender\", \"work_status\", \"social_activity_level\", \"exercise_frequency\", \"meditation_e_mindfulness\", \"diagnosis\", são variáveis do tipo texto que serão analisadas a seguir:"
      ],
      "metadata": {
        "id": "fzo5CU1xyD6w"
      }
    },
    {
      "cell_type": "markdown",
      "source": [
        "*  Variável: Gênero (**gender**) possui dois valores, Feminino (Female) e Masculino (Male), sem nenhum valor NaN (Not a number). Com uma maior quantidade de pacientes do gênero feminino (4,8% maior).\n"
      ],
      "metadata": {
        "id": "vyC0P7Q1ytLV"
      }
    },
    {
      "cell_type": "code",
      "source": [
        "set(data[\"gender\"])"
      ],
      "metadata": {
        "id": "pFhkgD7dzAGy"
      },
      "execution_count": null,
      "outputs": []
    },
    {
      "cell_type": "code",
      "source": [
        "data[\"gender\"].value_counts()"
      ],
      "metadata": {
        "id": "cieaUG52zHu4"
      },
      "execution_count": null,
      "outputs": []
    },
    {
      "cell_type": "markdown",
      "source": [
        "*   Variável: Status de trabalho (**work_status**), possui três valores, Trabalhando (Working), Trabalho parcial (Partiallly working) e Sem trabalho (Not working) com uma distribuição de valores relativamente próxima, de desvio padrão 18,61. E contabilizando 47 valores NaN ao todo."
      ],
      "metadata": {
        "id": "SC5QKMGUzdk5"
      }
    },
    {
      "cell_type": "code",
      "source": [
        "set(data[\"work_status\"])"
      ],
      "metadata": {
        "id": "1c30LcjX0h4L"
      },
      "execution_count": null,
      "outputs": []
    },
    {
      "cell_type": "code",
      "source": [
        "data[\"work_status\"].value_counts()"
      ],
      "metadata": {
        "id": "3pNvmOUz0iQ3"
      },
      "execution_count": null,
      "outputs": []
    },
    {
      "cell_type": "code",
      "source": [
        "work_count = data[\"work_status\"].value_counts().values\n",
        "std_work = np.std(work_count, ddof=1)\n",
        "print(f\"Desvio padrão: {std_work:.2f}\")"
      ],
      "metadata": {
        "id": "q6zlcIzP384n"
      },
      "execution_count": null,
      "outputs": []
    },
    {
      "cell_type": "markdown",
      "source": [
        "Calculando a quantidade de valores \"NaN\" na variável:"
      ],
      "metadata": {
        "id": "suNCBv5Ztv26"
      }
    },
    {
      "cell_type": "code",
      "source": [
        "data[\"work_status\"].isna().sum()"
      ],
      "metadata": {
        "id": "hqNhEIvsBn55"
      },
      "execution_count": null,
      "outputs": []
    },
    {
      "cell_type": "markdown",
      "source": [
        "*  Variável: Nível de Atividade Social (**social_activity_level**), com cinco valores, Muito alto (Very high), Alto (Hight), Médio (Medium), Baixo (Low) e Muito baixo (Very low). Sendo os valores distribuidos de forma muito próxima (desvio padrão de 9,30) e contabililzando 40 valores NaN ao todo."
      ],
      "metadata": {
        "id": "ANBvxyrdzg_L"
      }
    },
    {
      "cell_type": "code",
      "source": [
        "set(data[\"social_activity_level\"])"
      ],
      "metadata": {
        "id": "DNEhCJfE0jT-"
      },
      "execution_count": null,
      "outputs": []
    },
    {
      "cell_type": "code",
      "source": [
        "data[\"social_activity_level\"].value_counts()"
      ],
      "metadata": {
        "id": "KrqX0Stp0oEc"
      },
      "execution_count": null,
      "outputs": []
    },
    {
      "cell_type": "code",
      "source": [
        "activity_count = data[\"social_activity_level\"].value_counts().values\n",
        "std_activity = np.std(activity_count, ddof=1)\n",
        "print(std_activity)"
      ],
      "metadata": {
        "id": "n-2YjbNIm-8h"
      },
      "execution_count": null,
      "outputs": []
    },
    {
      "cell_type": "markdown",
      "source": [
        "Calculando a quantidade de valores \"NaN\" na variável:"
      ],
      "metadata": {
        "id": "e74kklV77LPk"
      }
    },
    {
      "cell_type": "code",
      "source": [
        "data[\"social_activity_level\"].isna().sum()"
      ],
      "metadata": {
        "id": "Ht66Ny2utU6Z"
      },
      "execution_count": null,
      "outputs": []
    },
    {
      "cell_type": "markdown",
      "source": [
        "Variável: Frequência de atividade física (**exercise_frequency**), com cinco valores, Diariamente (Daily), Frequentemente (Often), Às vezes (Sometime), Raramente (Rarely) e Nunca (Never). Como podemos ver no desvio padrão da contagem dos dados (15,27), estes apresentam uma proporção razoável entre si. E com 39 valores NaN."
      ],
      "metadata": {
        "id": "8VbvJW7wzlKM"
      }
    },
    {
      "cell_type": "code",
      "source": [
        "set(data[\"exercise_frequency\"])"
      ],
      "metadata": {
        "id": "dUDyiG9B0kHl"
      },
      "execution_count": null,
      "outputs": []
    },
    {
      "cell_type": "code",
      "source": [
        "data[\"exercise_frequency\"].value_counts()"
      ],
      "metadata": {
        "id": "nMzCAnBp0pOD"
      },
      "execution_count": null,
      "outputs": []
    },
    {
      "cell_type": "code",
      "source": [
        "exercise_count = data[\"exercise_frequency\"].value_counts().values\n",
        "std_activity = np.std(exercise_count, ddof=1)\n",
        "print(f\"Desvio padrão: {std_activity:.2f}\")"
      ],
      "metadata": {
        "id": "NKH9l88MjcAy"
      },
      "execution_count": null,
      "outputs": []
    },
    {
      "cell_type": "markdown",
      "source": [
        "Calculando a quantidade de valores \"NaN\" na variável:"
      ],
      "metadata": {
        "id": "_toKRPAJ7q5m"
      }
    },
    {
      "cell_type": "code",
      "source": [
        "data[\"exercise_frequency\"].isna().sum()"
      ],
      "metadata": {
        "id": "0PZwFQXaunw0"
      },
      "execution_count": null,
      "outputs": []
    },
    {
      "cell_type": "markdown",
      "source": [
        "Variável: Meditação ou mindfulness (**meditation_or_mindfulness**), possui dois valores sim e não, constatando se o paciente em questão realiza ou não uma das atividades em seu dia a dia. Possui 11 valores do tipo NaN."
      ],
      "metadata": {
        "id": "7xlEG2F40AOW"
      }
    },
    {
      "cell_type": "code",
      "source": [
        "set(data[\"meditation_or_mindfulness\"])"
      ],
      "metadata": {
        "id": "Uq8UZdKN0k0r"
      },
      "execution_count": null,
      "outputs": []
    },
    {
      "cell_type": "code",
      "source": [
        "data[\"meditation_or_mindfulness\"].value_counts()"
      ],
      "metadata": {
        "id": "ZQZT64pp0ptL"
      },
      "execution_count": null,
      "outputs": []
    },
    {
      "cell_type": "code",
      "source": [
        "data[\"meditation_or_mindfulness\"].isna().sum()"
      ],
      "metadata": {
        "id": "Qyzv2jDmuwL-"
      },
      "execution_count": null,
      "outputs": []
    },
    {
      "cell_type": "markdown",
      "source": [
        "Variável: Diagnóstico (**diagnosis**), a variável target da base de dados, possuindo três valores, Depressão (Depression), ME/CFS e Ambos (Both). Os valores dizem respeito a se o paciente possui uma das doenças ou ambas. A distribuição dos valores é mais heterogênea para o diagnóstico de pacientes que possuem ambas as doenças (Desvio padrão 113,76)."
      ],
      "metadata": {
        "id": "oFXZl1n70FkG"
      }
    },
    {
      "cell_type": "code",
      "source": [
        "set(data[\"diagnosis\"])"
      ],
      "metadata": {
        "id": "jDcLpD5w0lO_"
      },
      "execution_count": null,
      "outputs": []
    },
    {
      "cell_type": "code",
      "source": [
        "data[\"diagnosis\"].value_counts()"
      ],
      "metadata": {
        "id": "M_IDocnw0qS0"
      },
      "execution_count": null,
      "outputs": []
    },
    {
      "cell_type": "code",
      "source": [
        "diagnosis_count = data[\"diagnosis\"].value_counts().values\n",
        "std_diagnosis = np.std(diagnosis_count, ddof=1)\n",
        "print(f\"Desvio padrão: {std_diagnosis:.2f}\")"
      ],
      "metadata": {
        "id": "ftoKXUyO4lOb"
      },
      "execution_count": null,
      "outputs": []
    },
    {
      "cell_type": "markdown",
      "source": [
        "# Analisando as variáveis numéricas"
      ],
      "metadata": {
        "id": "-wANabj8cMa7"
      }
    },
    {
      "cell_type": "markdown",
      "source": [
        "Vamos analisar todas as variáveis numéricas à procura de outliers utilizando os gráficos de boxplot:"
      ],
      "metadata": {
        "id": "8fmf9ZoacX6t"
      }
    },
    {
      "cell_type": "code",
      "source": [
        "fig, axes = plt.subplots(3, 3, figsize=(18, 15)) # Create a 3x3 grid of subplots\n",
        "\n",
        "# Flatten the axes array for easy iteration\n",
        "axes = axes.flatten()\n",
        "\n",
        "# List of columns to plot\n",
        "columns_to_plot = [\n",
        "    \"age\",\n",
        "    \"sleep_quality_index\",\n",
        "    \"brain_fog_level\",\n",
        "    \"physical_pain_score\",\n",
        "    \"depression_phq9_score\",\n",
        "    \"stress_level\",\n",
        "    \"hours_of_sleep_per_night\",\n",
        "    \"pem_duration_hours\",\n",
        "    \"fatigue_severity_scale_score\"\n",
        "]\n",
        "\n",
        "# Titles for the plots\n",
        "plot_titles = [\n",
        "    \"Idade\",\n",
        "    \"Qualidade do sono\",\n",
        "    \"Confusão mental / Dificuldade de concentração\",\n",
        "    \"Intensidade da dor física\",\n",
        "    \"Índice de depressão - PHQ9\",\n",
        "    \"Nível de estresse\",\n",
        "    \"Duração média do sono por noite\",\n",
        "    \"Duração do mal-estar pós-esforço (PEM) em horas\",\n",
        "    \"Escala de Gravidade da Fadiga\"\n",
        "]\n",
        "\n",
        "# Iterate through columns and axes to create box plots\n",
        "for i, col in enumerate(columns_to_plot):\n",
        "    sns.boxplot(y=data[col], ax=axes[i])\n",
        "    axes[i].set_title(plot_titles[i])\n",
        "    axes[i].set_ylabel(\"\") # Remove y-axis label to avoid clutter\n",
        "\n",
        "plt.tight_layout()\n",
        "plt.show()"
      ],
      "metadata": {
        "id": "-PazNYLKvVUz"
      },
      "execution_count": null,
      "outputs": []
    },
    {
      "cell_type": "markdown",
      "source": [
        "Analisando os gráficos, vemos que o \"Índice de depressão (PHQ9)\" apresenta um outlier, acima do valor de 25 e abaixo do valor de 19. Já o gráfico para a variável \"Escala de gravidade da fadiga\", há vários outliers, que estão acima ou abaixo da mediana.\n",
        "Em ambos os casos, embora estatisticamente os dados sejam considerados como outliers, pois, estão longe da concentração central (mediana), não devemos desconsiderá-los para a predissão do modelo.\n",
        "Os dados estão dentro do valor previsto para cada caso. No caso do Índice de depressão, este pode varia de 0 à 29, e podemos ver pelo gráfico que o outlier está dentro deste valor. O mesmo acontece para a Escala de gravidade da fadiga, todos os valores apresentados como outliers, estão dentro da escala esperada, entre 0 e 10. O que acontece neste caso é que, pode haver uma alta concentração de dados em torno da mediana e os dados podem estar assimetricamente distribuidos. Isto pode ser visto no gráfico a seguir, para o caso da Escala de gravidade da fagida:"
      ],
      "metadata": {
        "id": "Ghr1sawadOE8"
      }
    },
    {
      "cell_type": "code",
      "source": [
        "coluna = data[\"fatigue_severity_scale_score\"].dropna()  # remove NaNs, se houver\n",
        "\n",
        "mediana = np.median(coluna)\n",
        "\n",
        "plt.figure(figsize=(8, 4))\n",
        "sns.histplot(coluna, bins=10, kde=True, color=\"skyblue\")\n",
        "\n",
        "# Linha vertical indicando a mediana\n",
        "plt.axvline(mediana, color='red', linestyle='--', linewidth=2, label=f'Mediana = {mediana:.2f}')\n",
        "\n",
        "plt.text(mediana + 0.1, plt.ylim()[1]*0.9, f'Mediana\\n{mediana:.2f}', color='red')\n",
        "\n",
        "plt.title(\"Histograma: Escala de gravidade da fadiga e respectiva mediana\")\n",
        "plt.xlabel(\"Valor\")\n",
        "plt.ylabel(\"Frequência\")\n",
        "plt.legend()\n",
        "plt.show()\n"
      ],
      "metadata": {
        "id": "3Ah9Dctikc7w"
      },
      "execution_count": null,
      "outputs": []
    },
    {
      "cell_type": "markdown",
      "source": [
        "Nos histogramas a seguir, podemos ver que as demamis variáveis possuem valores mais simetricamente distribuídos (excetuando o índice de depressão PHQ9)."
      ],
      "metadata": {
        "id": "0A12oRaeqMwb"
      }
    },
    {
      "cell_type": "code",
      "source": [
        "colunas = [\"age\",\n",
        "    \"sleep_quality_index\",\n",
        "    \"brain_fog_level\",\n",
        "    \"physical_pain_score\",\n",
        "    \"depression_phq9_score\",\n",
        "    \"stress_level\",\n",
        "    \"hours_of_sleep_per_night\",\n",
        "    \"pem_duration_hours\",]\n",
        "n = len(colunas)\n",
        "\n",
        "plt.figure(figsize=(5 * n, 4))\n",
        "\n",
        "for i, coluna in enumerate(colunas, 1):\n",
        "    mediana = data[coluna].median()\n",
        "\n",
        "    ax = plt.subplot(1, n, i)\n",
        "    sns.histplot(data[coluna].dropna(), kde=True, bins=10, ax=ax, color=\"skyblue\")\n",
        "    ax.axvline(mediana, color='red', linestyle='--', label=f'Mediana: {mediana:.2f}')\n",
        "    ax.set_title(f'{coluna}')\n",
        "    ax.set_xlabel('')\n",
        "    ax.set_ylabel('Frequência')\n",
        "    ax.legend()\n",
        "\n",
        "plt.tight_layout()\n",
        "plt.show()"
      ],
      "metadata": {
        "id": "yELhqTdBmSl_"
      },
      "execution_count": null,
      "outputs": []
    },
    {
      "cell_type": "markdown",
      "source": [
        "# Compreendendo melhor o diagnóstico segundo a base de dados"
      ],
      "metadata": {
        "id": "ifoBuyyT8kpa"
      }
    },
    {
      "cell_type": "code",
      "source": [
        "grouped = data.groupby([\"diagnosis\", \"gender\"]).size().unstack(fill_value=0)\n",
        "\n",
        "grouped.plot(kind=\"bar\")\n",
        "\n",
        "plt.title(\"Diagnóstico por genêro\")\n",
        "plt.xlabel(\"Diagnóstico\")\n",
        "plt.ylabel(\"Quantidade de pessoas\")\n",
        "plt.xticks(rotation=0)\n",
        "plt.legend(title=\"Gender\")\n",
        "plt.tight_layout()\n",
        "plt.show()"
      ],
      "metadata": {
        "id": "EN2GhXuAxOqv"
      },
      "execution_count": null,
      "outputs": []
    },
    {
      "cell_type": "code",
      "source": [
        "work_diagnosis = data.groupby([\"diagnosis\", \"work_status\"]).size().unstack(fill_value=0)\n",
        "work_diagnosis.plot(kind=\"bar\")\n",
        "\n",
        "total_work_status = data[\"work_status\"].value_counts()\n",
        "\n",
        "plt.title(\"Relação entre trabalho e diagnóstico\")\n",
        "plt.xlabel(\"Diagnóstico\")\n",
        "plt.ylabel(\"Quantidade de pessoas\")\n",
        "plt.xticks(rotation=0)\n",
        "plt.legend(title=\"work status\")\n",
        "plt.tight_layout()\n",
        "\n",
        "texto_totais = \"\\n\".join([f\"{categoria}: {quantidade}\" for categoria, quantidade in total_work_status.items()])\n",
        "plt.gcf().text(0.95, 0.5, texto_totais, fontsize=10, va='center')\n",
        "\n",
        "plt.tight_layout(rect=[0, 0, 0.9, 1])\n",
        "\n",
        "plt.show()\n"
      ],
      "metadata": {
        "id": "LvFxzvfvaE3N"
      },
      "execution_count": null,
      "outputs": []
    },
    {
      "cell_type": "code",
      "source": [
        "import seaborn as sns\n",
        "import matplotlib.pyplot as plt\n",
        "import pandas as pd\n",
        "\n",
        "plt.figure(figsize=(10, 6))\n",
        "sns.set(style=\"whitegrid\")\n",
        "\n",
        "# Calculate the counts of each age for each diagnosis\n",
        "age_diagnosis_counts = data.groupby([\"diagnosis\", \"age\"]).size().reset_index(name=\"count\")\n",
        "\n",
        "# Gráfico suavizado com Seaborn\n",
        "sns.lineplot(\n",
        "    data=age_diagnosis_counts,\n",
        "    x=\"age\",\n",
        "    y=\"count\",  # Use the calculated counts for the y-axis\n",
        "    hue=\"diagnosis\",\n",
        "    ci=None,              # Remove intervalo de confiança\n",
        "    lw=2,                 # Largura da linha\n",
        "    marker=\"o\"\n",
        ")\n",
        "\n",
        "plt.title(\"Distribuição Suavizada da Idade por Diagnóstico\")\n",
        "plt.xlabel(\"Idade\")\n",
        "plt.ylabel(\"Quantidade de Pessoas\")\n",
        "plt.legend(title=\"Diagnóstico\")\n",
        "plt.grid(True)\n",
        "plt.tight_layout()\n",
        "plt.show()"
      ],
      "metadata": {
        "id": "7VEOo-M2pIVM"
      },
      "execution_count": null,
      "outputs": []
    },
    {
      "cell_type": "code",
      "source": [
        "# Configurar estilo\n",
        "sns.set(style=\"whitegrid\")\n",
        "\n",
        "# Diagnósticos únicos ordenados\n",
        "diagnosticos = sorted(data[\"diagnosis\"].unique())\n",
        "\n",
        "# Criar subgráficos\n",
        "fig, axes = plt.subplots(nrows=3, ncols=1, figsize=(8, 15), sharey=True)\n",
        "\n",
        "for i, diag in enumerate(diagnosticos):\n",
        "    # Filtrar e contar a quantidade de pessoas por idade para o diagnóstico\n",
        "    subset = data[data[\"diagnosis\"] == diag]\n",
        "    idade_counts = subset[\"age\"].value_counts().sort_index()\n",
        "    idade_df = pd.DataFrame({\n",
        "        \"idade\": idade_counts.index,\n",
        "        \"quantidade\": idade_counts.values\n",
        "    })\n",
        "\n",
        "    # Plotar a curva de distribuição\n",
        "    sns.lineplot(\n",
        "        data=idade_df,\n",
        "        x=\"idade\",\n",
        "        y=\"quantidade\",\n",
        "        ax=axes[i],\n",
        "        marker='o',\n",
        "        color=\"blue\"\n",
        "    )\n",
        "\n",
        "    axes[i].set_title(f\"Diagnóstico {diag}\")\n",
        "    axes[i].set_xlabel(\"Idade\")\n",
        "    if i == 0:\n",
        "        axes[i].set_ylabel(\"Quantidade de Pessoas\")\n",
        "    axes[i].grid(True)\n",
        "\n",
        "plt.suptitle(\"Distribuição da Idade por Diagnóstico\", fontsize=16)\n",
        "plt.tight_layout()\n",
        "plt.show()\n"
      ],
      "metadata": {
        "id": "GOGO80h1uAl2"
      },
      "execution_count": null,
      "outputs": []
    },
    {
      "cell_type": "markdown",
      "source": [
        "# **Tratando inconsistências na base**"
      ],
      "metadata": {
        "id": "x1nKoYe_tZW6"
      }
    },
    {
      "cell_type": "markdown",
      "source": [
        "Verificando o \"index\" de cada valor categórico que possuem valores NaN:"
      ],
      "metadata": {
        "id": "i7_0PEuPCXWM"
      }
    },
    {
      "cell_type": "code",
      "source": [
        "print(\"Índices em 'work_status':\", data[data[\"work_status\"].isna()].index.tolist())\n",
        "print(\"Índices em 'social_activity_level':\", data[data[\"social_activity_level\"].isna()].index.tolist())\n",
        "print(\"Índices em 'exercise_frequency':\", data[data[\"exercise_frequency\"].isna()].index.tolist())\n",
        "print(\"Índices em 'meditation_or_mindfulness':\", data[data[\"meditation_or_mindfulness\"].isna()].index.tolist())"
      ],
      "metadata": {
        "id": "4DTbx25uFB7s"
      },
      "execution_count": null,
      "outputs": []
    },
    {
      "cell_type": "code",
      "source": [
        "from collections import defaultdict\n",
        "\n",
        "# Suas listas de índices\n",
        "work_index = data[data[\"work_status\"].isna()].index.tolist()\n",
        "social_index = data[data[\"social_activity_level\"].isna()].index.tolist()\n",
        "exercise_index = data[data[\"exercise_frequency\"].isna()].index.tolist()\n",
        "meditation_index = data[data[\"meditation_or_mindfulness\"].isna()].index.tolist()\n",
        "\n",
        "\n",
        "# Junta todos os índices em um conjunto único\n",
        "todos_indices = set(work_index + social_index + exercise_index + meditation_index)\n",
        "\n",
        "# Verifica a contagem de categorias em que cada índice aparece\n",
        "resultados = {i: sum([i in work_index, i in social_index, i in exercise_index, i in meditation_index]) for i in todos_indices}\n",
        "\n",
        "# Separa os índices por número de categorias\n",
        "in_4 = [i for i, count in resultados.items() if count == 4]\n",
        "in_3 = [i for i, count in resultados.items() if count == 3]\n",
        "in_2 = [i for i, count in resultados.items() if count == 2]\n",
        "\n",
        "# Mostra os resultados\n",
        "print(\"🔹 Índices presentes em 4 categorias:\")\n",
        "print(in_4)\n",
        "\n",
        "print(\"\\n🔸 Índices presentes em 3 categorias:\")\n",
        "print(in_3)\n",
        "\n",
        "print(\"\\n▪️ Índices presentes em 2 categorias:\")\n",
        "print(in_2)"
      ],
      "metadata": {
        "id": "F8umJkeVJHyJ"
      },
      "execution_count": null,
      "outputs": []
    },
    {
      "cell_type": "code",
      "source": [
        "categorical_data = data.select_dtypes(include=['object'])\n",
        "categorical_data.isna().sum()"
      ],
      "metadata": {
        "id": "hEmXhFctMRQN"
      },
      "execution_count": null,
      "outputs": []
    },
    {
      "cell_type": "code",
      "source": [
        "categorical_data.fillna(\"Unknown\", inplace=True)\n",
        "categorical_data.isna().sum()"
      ],
      "metadata": {
        "id": "5bB3ncFkMMVU"
      },
      "execution_count": null,
      "outputs": []
    },
    {
      "cell_type": "markdown",
      "source": [
        "Transformando os valores do tipo categórico para numérico utilizando a técnica de Label Enconding sem definir a ordem dos valores para cada variável:"
      ],
      "metadata": {
        "id": "oVZtzB0GUSzo"
      }
    },
    {
      "cell_type": "code",
      "source": [
        "categorical_data_encoded = categorical_data.copy()\n",
        "for col in categorical_data_encoded.columns:\n",
        "    if categorical_data_encoded[col].dtype == 'object':\n",
        "        le = LabelEncoder()\n",
        "        categorical_data_encoded[col] = le.fit_transform(categorical_data_encoded[col])\n",
        "\n",
        "display(categorical_data_encoded.head())"
      ],
      "metadata": {
        "id": "o9pP2DxdVJa7"
      },
      "execution_count": null,
      "outputs": []
    },
    {
      "cell_type": "code",
      "source": [],
      "metadata": {
        "id": "ClSdj2GXY74Z"
      },
      "execution_count": null,
      "outputs": []
    },
    {
      "cell_type": "markdown",
      "source": [
        "Verificando a quantidade de valores numéricos nulos e adicionando o valor \"zero\":"
      ],
      "metadata": {
        "id": "DmVp4owuQvEe"
      }
    },
    {
      "cell_type": "code",
      "source": [
        "numerical_data = data.select_dtypes(include=[np.number])\n",
        "numerical_data.isnull().sum()"
      ],
      "metadata": {
        "id": "NVgB3wO2ulFb"
      },
      "execution_count": null,
      "outputs": []
    },
    {
      "cell_type": "code",
      "source": [
        "numerical_data.fillna(\"0\", inplace=True)\n",
        "numerical_data.isnull().sum()"
      ],
      "metadata": {
        "id": "yCItiGD99hK9"
      },
      "execution_count": null,
      "outputs": []
    },
    {
      "cell_type": "markdown",
      "source": [
        "Juntando toda a base de dados:"
      ],
      "metadata": {
        "id": "EY81CN5jU14r"
      }
    },
    {
      "cell_type": "code",
      "source": [
        "treated_data = pd.concat([numerical_data, categorical_data_encoded], axis=1)\n",
        "display(treated_data.head())\n",
        "treated_data.info()"
      ],
      "metadata": {
        "id": "3GI9inJtUDHF"
      },
      "execution_count": null,
      "outputs": []
    },
    {
      "cell_type": "code",
      "source": [
        "treated_data.shape"
      ],
      "metadata": {
        "id": "WwdbakCtXGAZ"
      },
      "execution_count": null,
      "outputs": []
    },
    {
      "cell_type": "code",
      "source": [
        "sns.boxplot(x=data[\"age\"])"
      ],
      "metadata": {
        "id": "siuzXmVa42la"
      },
      "execution_count": null,
      "outputs": []
    },
    {
      "cell_type": "code",
      "source": [
        "sns.histplot(data=data, x=\"age\")"
      ],
      "metadata": {
        "id": "5bjn8j4i5QsM"
      },
      "execution_count": null,
      "outputs": []
    },
    {
      "cell_type": "code",
      "source": [],
      "metadata": {
        "id": "5g1Tvmj2U7_3"
      },
      "execution_count": null,
      "outputs": []
    },
    {
      "cell_type": "markdown",
      "source": [],
      "metadata": {
        "id": "9LtGpWJCU1Yp"
      }
    },
    {
      "cell_type": "code",
      "source": [
        "#NÃO SEI SE FAZ SENTIDO PARA EM CASOS DE CLASSIFICAÇÃO E NÃO REGRESSÃO\n",
        "correlation_matrix = treated_data.corr().round(2)\n",
        "\n",
        "fig, ax = plt.subplots(figsize=(16,16))\n",
        "sns.heatmap(data=correlation_matrix, annot=True, linewidths=.5, ax=ax)"
      ],
      "metadata": {
        "id": "QcjRJcc0-4aI"
      },
      "execution_count": null,
      "outputs": []
    },
    {
      "cell_type": "code",
      "source": [
        "sns.pairplot(treated_data, hue=\"diagnosis\")\n",
        "plt.show()"
      ],
      "metadata": {
        "id": "ybV_gUN_zigm"
      },
      "execution_count": null,
      "outputs": []
    },
    {
      "cell_type": "markdown",
      "source": [
        "# **Análise exploratória dos dados**"
      ],
      "metadata": {
        "id": "xWZFeSm-teFP"
      }
    },
    {
      "cell_type": "markdown",
      "source": [
        "# **Criação dos modelos de Machine Learning**"
      ],
      "metadata": {
        "id": "ovUFqIBito5_"
      }
    },
    {
      "cell_type": "markdown",
      "source": [
        "**Separação da base de treino e de teste**"
      ],
      "metadata": {
        "id": "US7lDFvxt0RD"
      }
    },
    {
      "cell_type": "code",
      "source": [
        "x = treated_data.drop(\"diagnosis\", axis=1)\n",
        "y = treated_data[\"diagnosis\"]\n",
        "\n",
        "x_train, x_test, y_train, y_test = train_test_split(x, y, test_size=0.2, random_state=42)\n",
        "\n",
        "model_lr =  LogisticRegression(max_iter=2000)\n",
        "model_lr.fit(x_train, y_train)\n",
        "\n",
        "predictions_lr = model_lr.predict(x_test)"
      ],
      "metadata": {
        "id": "GNNc1uh2aV8s"
      },
      "execution_count": null,
      "outputs": []
    },
    {
      "cell_type": "code",
      "source": [
        "from sklearn.metrics import classification_report\n",
        "\n",
        "print(classification_report(y_test, predictions_lr))"
      ],
      "metadata": {
        "id": "LvZNhGp8cu4Z"
      },
      "execution_count": null,
      "outputs": []
    },
    {
      "cell_type": "code",
      "source": [
        "from sklearn.metrics import confusion_matrix\n",
        "\n",
        "cm = confusion_matrix(y_test, predictions_lr)\n",
        "print(cm)"
      ],
      "metadata": {
        "id": "FtXArNkEd2vL"
      },
      "execution_count": null,
      "outputs": []
    },
    {
      "cell_type": "code",
      "source": [
        "import seaborn as sns\n",
        "import matplotlib.pyplot as plt\n",
        "\n",
        "sns.heatmap(cm, annot=True, fmt=\"d\", cmap=\"Blues\")\n",
        "plt.xlabel(\"Predito\")\n",
        "plt.ylabel(\"Real\")\n",
        "plt.title(\"Matriz de Confusão\")\n",
        "plt.show()"
      ],
      "metadata": {
        "id": "ndzYH6yOd-1g"
      },
      "execution_count": null,
      "outputs": []
    },
    {
      "cell_type": "code",
      "source": [
        "from sklearn.neighbors import KNeighborsClassifier\n",
        "from sklearn.svm import SVC\n",
        "from sklearn.naive_bayes import GaussianNB\n",
        "from sklearn.ensemble import AdaBoostClassifier, GradientBoostingClassifier\n",
        "from sklearn.tree import DecisionTreeClassifier\n",
        "from sklearn.ensemble import RandomForestClassifier\n",
        "\n",
        "classifiers = [\n",
        "    ('Decision Tree', DecisionTreeClassifier(random_state=42)),\n",
        "    ('Random Forest', RandomForestClassifier(random_state=42)),\n",
        "    ('AdaBoost', AdaBoostClassifier()),\n",
        "    ('Gradient Boosting', GradientBoostingClassifier()),\n",
        "    ('K-Nearest Neighbors', KNeighborsClassifier()),\n",
        "    ('AdaBoost', AdaBoostClassifier(random_state=42)),\n",
        "    ('Naive Bayes', GaussianNB())\n",
        "]\n",
        "\n",
        "for model_name, model_class in classifiers:\n",
        "  model = model_class\n",
        "  model.fit(x_train, y_train)\n",
        "\n",
        "  y_pred = model.predict(x_test)\n",
        "\n",
        "  accuracy = accuracy_score(y_test, y_pred)\n",
        "\n",
        "  print(f\"Acurácia do modelo {model_name}: {accuracy}\")"
      ],
      "metadata": {
        "id": "SSPbHqYSfDI6"
      },
      "execution_count": null,
      "outputs": []
    }
  ]
}