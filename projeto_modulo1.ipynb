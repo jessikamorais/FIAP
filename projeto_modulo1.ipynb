{
  "nbformat": 4,
  "nbformat_minor": 0,
  "metadata": {
    "colab": {
      "provenance": [],
      "authorship_tag": "ABX9TyMa7G15YTt2kWuYNV3lGAIw",
      "include_colab_link": true
    },
    "kernelspec": {
      "name": "python3",
      "display_name": "Python 3"
    },
    "language_info": {
      "name": "python"
    }
  },
  "cells": [
    {
      "cell_type": "markdown",
      "metadata": {
        "id": "view-in-github",
        "colab_type": "text"
      },
      "source": [
        "<a href=\"https://colab.research.google.com/github/jessikamorais/FIAP/blob/main/projeto_modulo1.ipynb\" target=\"_parent\"><img src=\"https://colab.research.google.com/assets/colab-badge.svg\" alt=\"Open In Colab\"/></a>"
      ]
    },
    {
      "cell_type": "markdown",
      "source": [
        "## Síndrome da Fadiga Crônica (EM/SFC) e Depressão\n",
        "\n",
        "### Fonte de Dados:\n",
        "\n",
        "O conjjunto de dados utilizado é sintetíco, desenvolvimendo para tarefas de classificação entre Encefalomielite Miálgica/Síndrome da Fadiga Crônica (EM/SFC) e Depressão.\n",
        "\n",
        "Este é o primeiro conjunto de dados desse tipo criado especificamente para ajudar iniciantes e pesquisadores a explorar casos complexos de diagnóstico diferencial em condições de saúde mental e crônica.\n",
        "\n",
        "(Falar sobre as duas doenças de forma breve, falar da importância do estudo das mesmas e como elas afetam as pessoas no mundo atual).\n",
        "\n",
        "# **Explicação das variáveis:**\n",
        "\n",
        "* **age** -\tIdade do paciente\n",
        "* **gender** -\tGenêro (Feminino / Masculino / Outro)\n",
        "* **fatigue_severity_scale_score** -\tEscala de Gravidade da Fadiga (Fatigue Severity Scale - FSS), 0–10\n",
        "* **depression_phq9_score** -\tPHQ-9 Índice de depressão, 0–27\n",
        "* **pem_present\tWhether** - Mal-estar pós-esforço está presente (Post-Exertional Malaise - PEM) is present (Yes/No or 1/0)\n",
        "* **pem_duration_hours** -\tDuração do mal-estar pós-esforço (PEM) em horas\n",
        "* **sleep_quality_index** -\tQualidade do sono (escala de 1 à 10)\n",
        "* **brain_fog_level** -\tNévoa cerebral (1–10)\n",
        "* **physical_pain_score** -\tIntesidade da dor física (1–10)\n",
        "* **stress_level** - Nível de estresse (1–10)\n",
        "* **work_status** -\tStatus de trabalho: Trabalhando / Trabalho parcial / Sem trabalho\n",
        "* **social_activity_level** - Atividade social: Muito baixa – Muito alta\n",
        "* **exercise_frequency** - Frequência de atividade física: Nunca – Diariamente\n",
        "* **meditation_or_mindfulness** - O paciente pratica mindfulness ou meditação? Sim / NãoDoes the patient practice mindfulness or meditation? Yes/No\n",
        "* **hours_of_sleep_per_night** - Duração média do sono por noite\n",
        "* **diagnosis** - Diagnóstico (qual doença o paciente tem, ou possui ambas): ME/CFS, Depressão, Ambos (Variável Target)"
      ],
      "metadata": {
        "id": "nkABRTYXsF1a"
      }
    },
    {
      "cell_type": "markdown",
      "source": [
        "# **`Importando as bibliotecas`**"
      ],
      "metadata": {
        "id": "inRVr-EKssY5"
      }
    },
    {
      "cell_type": "code",
      "source": [
        "import pandas as pd # Para trabalhar com dados tabulares\n",
        "# from sklearn.model_selection import train_test_split #separação dos dados\n",
        "# from sklearn.neighbors import KNeighborsClassifier #modelo de machine learning classificação\n",
        "# from sklearn.metrics import accuracy_score #avaliação do modelo\n",
        "# from sklearn.metrics import confusion_matrix, ConfusionMatrixDisplay\n",
        "# from sklearn.metrics import accuracy_score #métrica de avaliação\n",
        "# from sklearn.preprocessing import StandardScaler, MinMaxScaler #Feature Engineer\n",
        "# import matplotlib.pyplot as plt #gráficos\n",
        "# import seaborn as sns #gráficos\n",
        "# import numpy as np #transformação dos dados\n",
        "# import warnings #remoção de avisos"
      ],
      "metadata": {
        "id": "elafn7iqrkCw"
      },
      "execution_count": 6,
      "outputs": []
    },
    {
      "cell_type": "markdown",
      "source": [
        "# **Importando os dados**"
      ],
      "metadata": {
        "id": "GZFF9AFKtA0M"
      }
    },
    {
      "cell_type": "code",
      "source": [
        "dados = pd.read_csv('me_depression_data.csv', sep=',')"
      ],
      "metadata": {
        "id": "mkohJpecrlF2"
      },
      "execution_count": 7,
      "outputs": []
    },
    {
      "cell_type": "markdown",
      "source": [
        "# **Analisando os dados**"
      ],
      "metadata": {
        "id": "xLmHEzcytPVB"
      }
    },
    {
      "cell_type": "code",
      "source": [
        "dados.shape"
      ],
      "metadata": {
        "colab": {
          "base_uri": "https://localhost:8080/"
        },
        "id": "HHddd_1muS9z",
        "outputId": "f79f9cad-821c-46ae-b84a-d4e1f87068ff"
      },
      "execution_count": 11,
      "outputs": [
        {
          "output_type": "execute_result",
          "data": {
            "text/plain": [
              "(1000, 16)"
            ]
          },
          "metadata": {},
          "execution_count": 11
        }
      ]
    },
    {
      "cell_type": "code",
      "source": [
        "dados.head(10)"
      ],
      "metadata": {
        "colab": {
          "base_uri": "https://localhost:8080/",
          "height": 435
        },
        "id": "INiJCm0nud8n",
        "outputId": "a24fe017-d28a-4d3c-b5ec-3adbd0b6c3b8"
      },
      "execution_count": 12,
      "outputs": [
        {
          "output_type": "execute_result",
          "data": {
            "text/plain": [
              "   age  gender  sleep_quality_index  brain_fog_level  physical_pain_score  \\\n",
              "0   56    Male                  8.7              3.9                  9.2   \n",
              "1   69    Male                  1.3              9.9                  4.2   \n",
              "2   46  Female                  4.0              5.4                  4.8   \n",
              "3   32  Female                  9.4              2.1                  2.9   \n",
              "4   60  Female                  7.6              7.5                  6.4   \n",
              "5   25  Female                  3.5              3.9                  6.4   \n",
              "6   38  Female                  3.3             10.0                  4.3   \n",
              "7   56    Male                  1.0              9.8                  4.0   \n",
              "8   36  Female                  7.3              6.9                  9.0   \n",
              "9   40  Female                  1.4              2.2                  4.4   \n",
              "\n",
              "   stress_level  depression_phq9_score  fatigue_severity_scale_score  \\\n",
              "0           8.1                   10.0                           6.5   \n",
              "1           9.9                   20.0                           7.0   \n",
              "2           NaN                   24.0                           1.6   \n",
              "3           3.8                   10.0                           6.8   \n",
              "4           8.5                   17.0                           7.0   \n",
              "5           6.5                    9.0                           7.5   \n",
              "6           6.2                   15.0                           7.0   \n",
              "7           3.3                   10.0                           4.5   \n",
              "8           7.8                    9.0                           7.0   \n",
              "9           1.7                    9.0                           9.8   \n",
              "\n",
              "   pem_duration_hours  hours_of_sleep_per_night  pem_present  \\\n",
              "0                 9.0                       7.7            0   \n",
              "1                41.0                       8.4            1   \n",
              "2                13.0                       6.9            0   \n",
              "3                11.0                       7.5            0   \n",
              "4                46.0                       3.1            1   \n",
              "5                41.0                       4.1            1   \n",
              "6                29.0                       9.9            1   \n",
              "7                31.0                       3.5            0   \n",
              "8                31.0                       7.8            1   \n",
              "9                41.0                       4.2            1   \n",
              "\n",
              "         work_status social_activity_level exercise_frequency  \\\n",
              "0            Working                   Low              Daily   \n",
              "1            Working                   Low              Often   \n",
              "2  Partially working                   NaN             Rarely   \n",
              "3        Not working                  High              Never   \n",
              "4        Not working                   Low             Rarely   \n",
              "5  Partially working                Medium              Never   \n",
              "6        Not working              Very low          Sometimes   \n",
              "7        Not working             Very high              Daily   \n",
              "8            Working                  High                NaN   \n",
              "9  Partially working                Medium             Rarely   \n",
              "\n",
              "  meditation_or_mindfulness   diagnosis  \n",
              "0                       Yes  Depression  \n",
              "1                       Yes        Both  \n",
              "2                       Yes  Depression  \n",
              "3                       Yes  Depression  \n",
              "4                        No        Both  \n",
              "5                        No      ME/CFS  \n",
              "6                       Yes        Both  \n",
              "7                       Yes  Depression  \n",
              "8                        No      ME/CFS  \n",
              "9                       Yes      ME/CFS  "
            ],
            "text/html": [
              "\n",
              "  <div id=\"df-cb603d16-10ab-4b72-a258-54c2176cd017\" class=\"colab-df-container\">\n",
              "    <div>\n",
              "<style scoped>\n",
              "    .dataframe tbody tr th:only-of-type {\n",
              "        vertical-align: middle;\n",
              "    }\n",
              "\n",
              "    .dataframe tbody tr th {\n",
              "        vertical-align: top;\n",
              "    }\n",
              "\n",
              "    .dataframe thead th {\n",
              "        text-align: right;\n",
              "    }\n",
              "</style>\n",
              "<table border=\"1\" class=\"dataframe\">\n",
              "  <thead>\n",
              "    <tr style=\"text-align: right;\">\n",
              "      <th></th>\n",
              "      <th>age</th>\n",
              "      <th>gender</th>\n",
              "      <th>sleep_quality_index</th>\n",
              "      <th>brain_fog_level</th>\n",
              "      <th>physical_pain_score</th>\n",
              "      <th>stress_level</th>\n",
              "      <th>depression_phq9_score</th>\n",
              "      <th>fatigue_severity_scale_score</th>\n",
              "      <th>pem_duration_hours</th>\n",
              "      <th>hours_of_sleep_per_night</th>\n",
              "      <th>pem_present</th>\n",
              "      <th>work_status</th>\n",
              "      <th>social_activity_level</th>\n",
              "      <th>exercise_frequency</th>\n",
              "      <th>meditation_or_mindfulness</th>\n",
              "      <th>diagnosis</th>\n",
              "    </tr>\n",
              "  </thead>\n",
              "  <tbody>\n",
              "    <tr>\n",
              "      <th>0</th>\n",
              "      <td>56</td>\n",
              "      <td>Male</td>\n",
              "      <td>8.7</td>\n",
              "      <td>3.9</td>\n",
              "      <td>9.2</td>\n",
              "      <td>8.1</td>\n",
              "      <td>10.0</td>\n",
              "      <td>6.5</td>\n",
              "      <td>9.0</td>\n",
              "      <td>7.7</td>\n",
              "      <td>0</td>\n",
              "      <td>Working</td>\n",
              "      <td>Low</td>\n",
              "      <td>Daily</td>\n",
              "      <td>Yes</td>\n",
              "      <td>Depression</td>\n",
              "    </tr>\n",
              "    <tr>\n",
              "      <th>1</th>\n",
              "      <td>69</td>\n",
              "      <td>Male</td>\n",
              "      <td>1.3</td>\n",
              "      <td>9.9</td>\n",
              "      <td>4.2</td>\n",
              "      <td>9.9</td>\n",
              "      <td>20.0</td>\n",
              "      <td>7.0</td>\n",
              "      <td>41.0</td>\n",
              "      <td>8.4</td>\n",
              "      <td>1</td>\n",
              "      <td>Working</td>\n",
              "      <td>Low</td>\n",
              "      <td>Often</td>\n",
              "      <td>Yes</td>\n",
              "      <td>Both</td>\n",
              "    </tr>\n",
              "    <tr>\n",
              "      <th>2</th>\n",
              "      <td>46</td>\n",
              "      <td>Female</td>\n",
              "      <td>4.0</td>\n",
              "      <td>5.4</td>\n",
              "      <td>4.8</td>\n",
              "      <td>NaN</td>\n",
              "      <td>24.0</td>\n",
              "      <td>1.6</td>\n",
              "      <td>13.0</td>\n",
              "      <td>6.9</td>\n",
              "      <td>0</td>\n",
              "      <td>Partially working</td>\n",
              "      <td>NaN</td>\n",
              "      <td>Rarely</td>\n",
              "      <td>Yes</td>\n",
              "      <td>Depression</td>\n",
              "    </tr>\n",
              "    <tr>\n",
              "      <th>3</th>\n",
              "      <td>32</td>\n",
              "      <td>Female</td>\n",
              "      <td>9.4</td>\n",
              "      <td>2.1</td>\n",
              "      <td>2.9</td>\n",
              "      <td>3.8</td>\n",
              "      <td>10.0</td>\n",
              "      <td>6.8</td>\n",
              "      <td>11.0</td>\n",
              "      <td>7.5</td>\n",
              "      <td>0</td>\n",
              "      <td>Not working</td>\n",
              "      <td>High</td>\n",
              "      <td>Never</td>\n",
              "      <td>Yes</td>\n",
              "      <td>Depression</td>\n",
              "    </tr>\n",
              "    <tr>\n",
              "      <th>4</th>\n",
              "      <td>60</td>\n",
              "      <td>Female</td>\n",
              "      <td>7.6</td>\n",
              "      <td>7.5</td>\n",
              "      <td>6.4</td>\n",
              "      <td>8.5</td>\n",
              "      <td>17.0</td>\n",
              "      <td>7.0</td>\n",
              "      <td>46.0</td>\n",
              "      <td>3.1</td>\n",
              "      <td>1</td>\n",
              "      <td>Not working</td>\n",
              "      <td>Low</td>\n",
              "      <td>Rarely</td>\n",
              "      <td>No</td>\n",
              "      <td>Both</td>\n",
              "    </tr>\n",
              "    <tr>\n",
              "      <th>5</th>\n",
              "      <td>25</td>\n",
              "      <td>Female</td>\n",
              "      <td>3.5</td>\n",
              "      <td>3.9</td>\n",
              "      <td>6.4</td>\n",
              "      <td>6.5</td>\n",
              "      <td>9.0</td>\n",
              "      <td>7.5</td>\n",
              "      <td>41.0</td>\n",
              "      <td>4.1</td>\n",
              "      <td>1</td>\n",
              "      <td>Partially working</td>\n",
              "      <td>Medium</td>\n",
              "      <td>Never</td>\n",
              "      <td>No</td>\n",
              "      <td>ME/CFS</td>\n",
              "    </tr>\n",
              "    <tr>\n",
              "      <th>6</th>\n",
              "      <td>38</td>\n",
              "      <td>Female</td>\n",
              "      <td>3.3</td>\n",
              "      <td>10.0</td>\n",
              "      <td>4.3</td>\n",
              "      <td>6.2</td>\n",
              "      <td>15.0</td>\n",
              "      <td>7.0</td>\n",
              "      <td>29.0</td>\n",
              "      <td>9.9</td>\n",
              "      <td>1</td>\n",
              "      <td>Not working</td>\n",
              "      <td>Very low</td>\n",
              "      <td>Sometimes</td>\n",
              "      <td>Yes</td>\n",
              "      <td>Both</td>\n",
              "    </tr>\n",
              "    <tr>\n",
              "      <th>7</th>\n",
              "      <td>56</td>\n",
              "      <td>Male</td>\n",
              "      <td>1.0</td>\n",
              "      <td>9.8</td>\n",
              "      <td>4.0</td>\n",
              "      <td>3.3</td>\n",
              "      <td>10.0</td>\n",
              "      <td>4.5</td>\n",
              "      <td>31.0</td>\n",
              "      <td>3.5</td>\n",
              "      <td>0</td>\n",
              "      <td>Not working</td>\n",
              "      <td>Very high</td>\n",
              "      <td>Daily</td>\n",
              "      <td>Yes</td>\n",
              "      <td>Depression</td>\n",
              "    </tr>\n",
              "    <tr>\n",
              "      <th>8</th>\n",
              "      <td>36</td>\n",
              "      <td>Female</td>\n",
              "      <td>7.3</td>\n",
              "      <td>6.9</td>\n",
              "      <td>9.0</td>\n",
              "      <td>7.8</td>\n",
              "      <td>9.0</td>\n",
              "      <td>7.0</td>\n",
              "      <td>31.0</td>\n",
              "      <td>7.8</td>\n",
              "      <td>1</td>\n",
              "      <td>Working</td>\n",
              "      <td>High</td>\n",
              "      <td>NaN</td>\n",
              "      <td>No</td>\n",
              "      <td>ME/CFS</td>\n",
              "    </tr>\n",
              "    <tr>\n",
              "      <th>9</th>\n",
              "      <td>40</td>\n",
              "      <td>Female</td>\n",
              "      <td>1.4</td>\n",
              "      <td>2.2</td>\n",
              "      <td>4.4</td>\n",
              "      <td>1.7</td>\n",
              "      <td>9.0</td>\n",
              "      <td>9.8</td>\n",
              "      <td>41.0</td>\n",
              "      <td>4.2</td>\n",
              "      <td>1</td>\n",
              "      <td>Partially working</td>\n",
              "      <td>Medium</td>\n",
              "      <td>Rarely</td>\n",
              "      <td>Yes</td>\n",
              "      <td>ME/CFS</td>\n",
              "    </tr>\n",
              "  </tbody>\n",
              "</table>\n",
              "</div>\n",
              "    <div class=\"colab-df-buttons\">\n",
              "\n",
              "  <div class=\"colab-df-container\">\n",
              "    <button class=\"colab-df-convert\" onclick=\"convertToInteractive('df-cb603d16-10ab-4b72-a258-54c2176cd017')\"\n",
              "            title=\"Convert this dataframe to an interactive table.\"\n",
              "            style=\"display:none;\">\n",
              "\n",
              "  <svg xmlns=\"http://www.w3.org/2000/svg\" height=\"24px\" viewBox=\"0 -960 960 960\">\n",
              "    <path d=\"M120-120v-720h720v720H120Zm60-500h600v-160H180v160Zm220 220h160v-160H400v160Zm0 220h160v-160H400v160ZM180-400h160v-160H180v160Zm440 0h160v-160H620v160ZM180-180h160v-160H180v160Zm440 0h160v-160H620v160Z\"/>\n",
              "  </svg>\n",
              "    </button>\n",
              "\n",
              "  <style>\n",
              "    .colab-df-container {\n",
              "      display:flex;\n",
              "      gap: 12px;\n",
              "    }\n",
              "\n",
              "    .colab-df-convert {\n",
              "      background-color: #E8F0FE;\n",
              "      border: none;\n",
              "      border-radius: 50%;\n",
              "      cursor: pointer;\n",
              "      display: none;\n",
              "      fill: #1967D2;\n",
              "      height: 32px;\n",
              "      padding: 0 0 0 0;\n",
              "      width: 32px;\n",
              "    }\n",
              "\n",
              "    .colab-df-convert:hover {\n",
              "      background-color: #E2EBFA;\n",
              "      box-shadow: 0px 1px 2px rgba(60, 64, 67, 0.3), 0px 1px 3px 1px rgba(60, 64, 67, 0.15);\n",
              "      fill: #174EA6;\n",
              "    }\n",
              "\n",
              "    .colab-df-buttons div {\n",
              "      margin-bottom: 4px;\n",
              "    }\n",
              "\n",
              "    [theme=dark] .colab-df-convert {\n",
              "      background-color: #3B4455;\n",
              "      fill: #D2E3FC;\n",
              "    }\n",
              "\n",
              "    [theme=dark] .colab-df-convert:hover {\n",
              "      background-color: #434B5C;\n",
              "      box-shadow: 0px 1px 3px 1px rgba(0, 0, 0, 0.15);\n",
              "      filter: drop-shadow(0px 1px 2px rgba(0, 0, 0, 0.3));\n",
              "      fill: #FFFFFF;\n",
              "    }\n",
              "  </style>\n",
              "\n",
              "    <script>\n",
              "      const buttonEl =\n",
              "        document.querySelector('#df-cb603d16-10ab-4b72-a258-54c2176cd017 button.colab-df-convert');\n",
              "      buttonEl.style.display =\n",
              "        google.colab.kernel.accessAllowed ? 'block' : 'none';\n",
              "\n",
              "      async function convertToInteractive(key) {\n",
              "        const element = document.querySelector('#df-cb603d16-10ab-4b72-a258-54c2176cd017');\n",
              "        const dataTable =\n",
              "          await google.colab.kernel.invokeFunction('convertToInteractive',\n",
              "                                                    [key], {});\n",
              "        if (!dataTable) return;\n",
              "\n",
              "        const docLinkHtml = 'Like what you see? Visit the ' +\n",
              "          '<a target=\"_blank\" href=https://colab.research.google.com/notebooks/data_table.ipynb>data table notebook</a>'\n",
              "          + ' to learn more about interactive tables.';\n",
              "        element.innerHTML = '';\n",
              "        dataTable['output_type'] = 'display_data';\n",
              "        await google.colab.output.renderOutput(dataTable, element);\n",
              "        const docLink = document.createElement('div');\n",
              "        docLink.innerHTML = docLinkHtml;\n",
              "        element.appendChild(docLink);\n",
              "      }\n",
              "    </script>\n",
              "  </div>\n",
              "\n",
              "\n",
              "    <div id=\"df-11c7daa9-6da7-4edc-820b-07ac87903904\">\n",
              "      <button class=\"colab-df-quickchart\" onclick=\"quickchart('df-11c7daa9-6da7-4edc-820b-07ac87903904')\"\n",
              "                title=\"Suggest charts\"\n",
              "                style=\"display:none;\">\n",
              "\n",
              "<svg xmlns=\"http://www.w3.org/2000/svg\" height=\"24px\"viewBox=\"0 0 24 24\"\n",
              "     width=\"24px\">\n",
              "    <g>\n",
              "        <path d=\"M19 3H5c-1.1 0-2 .9-2 2v14c0 1.1.9 2 2 2h14c1.1 0 2-.9 2-2V5c0-1.1-.9-2-2-2zM9 17H7v-7h2v7zm4 0h-2V7h2v10zm4 0h-2v-4h2v4z\"/>\n",
              "    </g>\n",
              "</svg>\n",
              "      </button>\n",
              "\n",
              "<style>\n",
              "  .colab-df-quickchart {\n",
              "      --bg-color: #E8F0FE;\n",
              "      --fill-color: #1967D2;\n",
              "      --hover-bg-color: #E2EBFA;\n",
              "      --hover-fill-color: #174EA6;\n",
              "      --disabled-fill-color: #AAA;\n",
              "      --disabled-bg-color: #DDD;\n",
              "  }\n",
              "\n",
              "  [theme=dark] .colab-df-quickchart {\n",
              "      --bg-color: #3B4455;\n",
              "      --fill-color: #D2E3FC;\n",
              "      --hover-bg-color: #434B5C;\n",
              "      --hover-fill-color: #FFFFFF;\n",
              "      --disabled-bg-color: #3B4455;\n",
              "      --disabled-fill-color: #666;\n",
              "  }\n",
              "\n",
              "  .colab-df-quickchart {\n",
              "    background-color: var(--bg-color);\n",
              "    border: none;\n",
              "    border-radius: 50%;\n",
              "    cursor: pointer;\n",
              "    display: none;\n",
              "    fill: var(--fill-color);\n",
              "    height: 32px;\n",
              "    padding: 0;\n",
              "    width: 32px;\n",
              "  }\n",
              "\n",
              "  .colab-df-quickchart:hover {\n",
              "    background-color: var(--hover-bg-color);\n",
              "    box-shadow: 0 1px 2px rgba(60, 64, 67, 0.3), 0 1px 3px 1px rgba(60, 64, 67, 0.15);\n",
              "    fill: var(--button-hover-fill-color);\n",
              "  }\n",
              "\n",
              "  .colab-df-quickchart-complete:disabled,\n",
              "  .colab-df-quickchart-complete:disabled:hover {\n",
              "    background-color: var(--disabled-bg-color);\n",
              "    fill: var(--disabled-fill-color);\n",
              "    box-shadow: none;\n",
              "  }\n",
              "\n",
              "  .colab-df-spinner {\n",
              "    border: 2px solid var(--fill-color);\n",
              "    border-color: transparent;\n",
              "    border-bottom-color: var(--fill-color);\n",
              "    animation:\n",
              "      spin 1s steps(1) infinite;\n",
              "  }\n",
              "\n",
              "  @keyframes spin {\n",
              "    0% {\n",
              "      border-color: transparent;\n",
              "      border-bottom-color: var(--fill-color);\n",
              "      border-left-color: var(--fill-color);\n",
              "    }\n",
              "    20% {\n",
              "      border-color: transparent;\n",
              "      border-left-color: var(--fill-color);\n",
              "      border-top-color: var(--fill-color);\n",
              "    }\n",
              "    30% {\n",
              "      border-color: transparent;\n",
              "      border-left-color: var(--fill-color);\n",
              "      border-top-color: var(--fill-color);\n",
              "      border-right-color: var(--fill-color);\n",
              "    }\n",
              "    40% {\n",
              "      border-color: transparent;\n",
              "      border-right-color: var(--fill-color);\n",
              "      border-top-color: var(--fill-color);\n",
              "    }\n",
              "    60% {\n",
              "      border-color: transparent;\n",
              "      border-right-color: var(--fill-color);\n",
              "    }\n",
              "    80% {\n",
              "      border-color: transparent;\n",
              "      border-right-color: var(--fill-color);\n",
              "      border-bottom-color: var(--fill-color);\n",
              "    }\n",
              "    90% {\n",
              "      border-color: transparent;\n",
              "      border-bottom-color: var(--fill-color);\n",
              "    }\n",
              "  }\n",
              "</style>\n",
              "\n",
              "      <script>\n",
              "        async function quickchart(key) {\n",
              "          const quickchartButtonEl =\n",
              "            document.querySelector('#' + key + ' button');\n",
              "          quickchartButtonEl.disabled = true;  // To prevent multiple clicks.\n",
              "          quickchartButtonEl.classList.add('colab-df-spinner');\n",
              "          try {\n",
              "            const charts = await google.colab.kernel.invokeFunction(\n",
              "                'suggestCharts', [key], {});\n",
              "          } catch (error) {\n",
              "            console.error('Error during call to suggestCharts:', error);\n",
              "          }\n",
              "          quickchartButtonEl.classList.remove('colab-df-spinner');\n",
              "          quickchartButtonEl.classList.add('colab-df-quickchart-complete');\n",
              "        }\n",
              "        (() => {\n",
              "          let quickchartButtonEl =\n",
              "            document.querySelector('#df-11c7daa9-6da7-4edc-820b-07ac87903904 button');\n",
              "          quickchartButtonEl.style.display =\n",
              "            google.colab.kernel.accessAllowed ? 'block' : 'none';\n",
              "        })();\n",
              "      </script>\n",
              "    </div>\n",
              "\n",
              "    </div>\n",
              "  </div>\n"
            ],
            "application/vnd.google.colaboratory.intrinsic+json": {
              "type": "dataframe",
              "variable_name": "dados",
              "summary": "{\n  \"name\": \"dados\",\n  \"rows\": 1000,\n  \"fields\": [\n    {\n      \"column\": \"age\",\n      \"properties\": {\n        \"dtype\": \"number\",\n        \"std\": 15,\n        \"min\": 18,\n        \"max\": 70,\n        \"num_unique_values\": 53,\n        \"samples\": [\n          55,\n          23,\n          58\n        ],\n        \"semantic_type\": \"\",\n        \"description\": \"\"\n      }\n    },\n    {\n      \"column\": \"gender\",\n      \"properties\": {\n        \"dtype\": \"category\",\n        \"num_unique_values\": 2,\n        \"samples\": [\n          \"Female\",\n          \"Male\"\n        ],\n        \"semantic_type\": \"\",\n        \"description\": \"\"\n      }\n    },\n    {\n      \"column\": \"sleep_quality_index\",\n      \"properties\": {\n        \"dtype\": \"number\",\n        \"std\": 2.5714234154610565,\n        \"min\": 1.0,\n        \"max\": 10.0,\n        \"num_unique_values\": 91,\n        \"samples\": [\n          8.6,\n          8.8\n        ],\n        \"semantic_type\": \"\",\n        \"description\": \"\"\n      }\n    },\n    {\n      \"column\": \"brain_fog_level\",\n      \"properties\": {\n        \"dtype\": \"number\",\n        \"std\": 2.649315574431923,\n        \"min\": 1.0,\n        \"max\": 10.0,\n        \"num_unique_values\": 91,\n        \"samples\": [\n          4.2,\n          3.3\n        ],\n        \"semantic_type\": \"\",\n        \"description\": \"\"\n      }\n    },\n    {\n      \"column\": \"physical_pain_score\",\n      \"properties\": {\n        \"dtype\": \"number\",\n        \"std\": 2.5654599159598477,\n        \"min\": 1.0,\n        \"max\": 10.0,\n        \"num_unique_values\": 91,\n        \"samples\": [\n          8.3,\n          6.7\n        ],\n        \"semantic_type\": \"\",\n        \"description\": \"\"\n      }\n    },\n    {\n      \"column\": \"stress_level\",\n      \"properties\": {\n        \"dtype\": \"number\",\n        \"std\": 2.566536348112048,\n        \"min\": 1.0,\n        \"max\": 10.0,\n        \"num_unique_values\": 91,\n        \"samples\": [\n          4.8,\n          3.7\n        ],\n        \"semantic_type\": \"\",\n        \"description\": \"\"\n      }\n    },\n    {\n      \"column\": \"depression_phq9_score\",\n      \"properties\": {\n        \"dtype\": \"number\",\n        \"std\": 6.3065882475048936,\n        \"min\": 0.0,\n        \"max\": 27.0,\n        \"num_unique_values\": 28,\n        \"samples\": [\n          26.0,\n          4.0\n        ],\n        \"semantic_type\": \"\",\n        \"description\": \"\"\n      }\n    },\n    {\n      \"column\": \"fatigue_severity_scale_score\",\n      \"properties\": {\n        \"dtype\": \"number\",\n        \"std\": 2.2069370340524794,\n        \"min\": 0.0,\n        \"max\": 10.0,\n        \"num_unique_values\": 97,\n        \"samples\": [\n          1.1,\n          4.2\n        ],\n        \"semantic_type\": \"\",\n        \"description\": \"\"\n      }\n    },\n    {\n      \"column\": \"pem_duration_hours\",\n      \"properties\": {\n        \"dtype\": \"number\",\n        \"std\": 13.823952832709422,\n        \"min\": 0.0,\n        \"max\": 47.0,\n        \"num_unique_values\": 48,\n        \"samples\": [\n          5.0,\n          14.0\n        ],\n        \"semantic_type\": \"\",\n        \"description\": \"\"\n      }\n    },\n    {\n      \"column\": \"hours_of_sleep_per_night\",\n      \"properties\": {\n        \"dtype\": \"number\",\n        \"std\": 2.0403204198475247,\n        \"min\": 3.0,\n        \"max\": 10.0,\n        \"num_unique_values\": 71,\n        \"samples\": [\n          6.0,\n          7.7\n        ],\n        \"semantic_type\": \"\",\n        \"description\": \"\"\n      }\n    },\n    {\n      \"column\": \"pem_present\",\n      \"properties\": {\n        \"dtype\": \"number\",\n        \"std\": 0,\n        \"min\": 0,\n        \"max\": 1,\n        \"num_unique_values\": 2,\n        \"samples\": [\n          1,\n          0\n        ],\n        \"semantic_type\": \"\",\n        \"description\": \"\"\n      }\n    },\n    {\n      \"column\": \"work_status\",\n      \"properties\": {\n        \"dtype\": \"category\",\n        \"num_unique_values\": 3,\n        \"samples\": [\n          \"Working\",\n          \"Partially working\"\n        ],\n        \"semantic_type\": \"\",\n        \"description\": \"\"\n      }\n    },\n    {\n      \"column\": \"social_activity_level\",\n      \"properties\": {\n        \"dtype\": \"category\",\n        \"num_unique_values\": 5,\n        \"samples\": [\n          \"High\",\n          \"Very high\"\n        ],\n        \"semantic_type\": \"\",\n        \"description\": \"\"\n      }\n    },\n    {\n      \"column\": \"exercise_frequency\",\n      \"properties\": {\n        \"dtype\": \"category\",\n        \"num_unique_values\": 5,\n        \"samples\": [\n          \"Often\",\n          \"Sometimes\"\n        ],\n        \"semantic_type\": \"\",\n        \"description\": \"\"\n      }\n    },\n    {\n      \"column\": \"meditation_or_mindfulness\",\n      \"properties\": {\n        \"dtype\": \"category\",\n        \"num_unique_values\": 2,\n        \"samples\": [\n          \"No\",\n          \"Yes\"\n        ],\n        \"semantic_type\": \"\",\n        \"description\": \"\"\n      }\n    },\n    {\n      \"column\": \"diagnosis\",\n      \"properties\": {\n        \"dtype\": \"category\",\n        \"num_unique_values\": 3,\n        \"samples\": [\n          \"Depression\",\n          \"Both\"\n        ],\n        \"semantic_type\": \"\",\n        \"description\": \"\"\n      }\n    }\n  ]\n}"
            }
          },
          "metadata": {},
          "execution_count": 12
        }
      ]
    },
    {
      "cell_type": "code",
      "source": [
        "dados.info()"
      ],
      "metadata": {
        "colab": {
          "base_uri": "https://localhost:8080/"
        },
        "id": "GOGO80h1uAl2",
        "outputId": "be296ee3-6c5e-4ebe-fec5-44ec1a7e0efb"
      },
      "execution_count": 9,
      "outputs": [
        {
          "output_type": "stream",
          "name": "stdout",
          "text": [
            "<class 'pandas.core.frame.DataFrame'>\n",
            "RangeIndex: 1000 entries, 0 to 999\n",
            "Data columns (total 16 columns):\n",
            " #   Column                        Non-Null Count  Dtype  \n",
            "---  ------                        --------------  -----  \n",
            " 0   age                           1000 non-null   int64  \n",
            " 1   gender                        1000 non-null   object \n",
            " 2   sleep_quality_index           953 non-null    float64\n",
            " 3   brain_fog_level               952 non-null    float64\n",
            " 4   physical_pain_score           966 non-null    float64\n",
            " 5   stress_level                  952 non-null    float64\n",
            " 6   depression_phq9_score         978 non-null    float64\n",
            " 7   fatigue_severity_scale_score  979 non-null    float64\n",
            " 8   pem_duration_hours            976 non-null    float64\n",
            " 9   hours_of_sleep_per_night      979 non-null    float64\n",
            " 10  pem_present                   1000 non-null   int64  \n",
            " 11  work_status                   953 non-null    object \n",
            " 12  social_activity_level         960 non-null    object \n",
            " 13  exercise_frequency            961 non-null    object \n",
            " 14  meditation_or_mindfulness     989 non-null    object \n",
            " 15  diagnosis                     1000 non-null   object \n",
            "dtypes: float64(8), int64(2), object(6)\n",
            "memory usage: 125.1+ KB\n"
          ]
        }
      ]
    },
    {
      "cell_type": "markdown",
      "source": [
        "Pode se observar que as únicas variáveis que não possuem valores nulos são: \"age\", \"gender\", \"pem_present\" e \"diagnosis\", possuindo 1000 linhas de informações preenchidas (não nulas).\n",
        "As demais variáveis posssuem valores nulos, que devem ser tratados no decorrer do projeto."
      ],
      "metadata": {
        "id": "--WetNLqxWNu"
      }
    },
    {
      "cell_type": "markdown",
      "source": [
        "As variáveis: \"gender\", \"work_status\", \"social_activity_level\", exercise_frequency\", \"meditation_e_mindfulness\", \"diagnosis\", são variáveis do tipo texto. Analisando estas variáveis uma de cada vez:"
      ],
      "metadata": {
        "id": "fzo5CU1xyD6w"
      }
    },
    {
      "cell_type": "markdown",
      "source": [
        "Variável: \"**gender**\""
      ],
      "metadata": {
        "id": "vyC0P7Q1ytLV"
      }
    },
    {
      "cell_type": "code",
      "source": [
        "set(dados[\"gender\"])"
      ],
      "metadata": {
        "id": "pFhkgD7dzAGy",
        "outputId": "cfb31947-f015-4100-af0f-155a9c697721",
        "colab": {
          "base_uri": "https://localhost:8080/"
        }
      },
      "execution_count": 14,
      "outputs": [
        {
          "output_type": "execute_result",
          "data": {
            "text/plain": [
              "{'Female', 'Male'}"
            ]
          },
          "metadata": {},
          "execution_count": 14
        }
      ]
    },
    {
      "cell_type": "code",
      "source": [
        "dados[\"gender\"].value_counts()"
      ],
      "metadata": {
        "id": "cieaUG52zHu4",
        "outputId": "1d87428a-bd0b-42b5-ac00-9ea5813f0c61",
        "colab": {
          "base_uri": "https://localhost:8080/",
          "height": 178
        }
      },
      "execution_count": 15,
      "outputs": [
        {
          "output_type": "execute_result",
          "data": {
            "text/plain": [
              "gender\n",
              "Male      524\n",
              "Female    476\n",
              "Name: count, dtype: int64"
            ],
            "text/html": [
              "<div>\n",
              "<style scoped>\n",
              "    .dataframe tbody tr th:only-of-type {\n",
              "        vertical-align: middle;\n",
              "    }\n",
              "\n",
              "    .dataframe tbody tr th {\n",
              "        vertical-align: top;\n",
              "    }\n",
              "\n",
              "    .dataframe thead th {\n",
              "        text-align: right;\n",
              "    }\n",
              "</style>\n",
              "<table border=\"1\" class=\"dataframe\">\n",
              "  <thead>\n",
              "    <tr style=\"text-align: right;\">\n",
              "      <th></th>\n",
              "      <th>count</th>\n",
              "    </tr>\n",
              "    <tr>\n",
              "      <th>gender</th>\n",
              "      <th></th>\n",
              "    </tr>\n",
              "  </thead>\n",
              "  <tbody>\n",
              "    <tr>\n",
              "      <th>Male</th>\n",
              "      <td>524</td>\n",
              "    </tr>\n",
              "    <tr>\n",
              "      <th>Female</th>\n",
              "      <td>476</td>\n",
              "    </tr>\n",
              "  </tbody>\n",
              "</table>\n",
              "</div><br><label><b>dtype:</b> int64</label>"
            ]
          },
          "metadata": {},
          "execution_count": 15
        }
      ]
    },
    {
      "cell_type": "markdown",
      "source": [
        "Variável: \"**work_status**\""
      ],
      "metadata": {
        "id": "SC5QKMGUzdk5"
      }
    },
    {
      "cell_type": "code",
      "source": [
        "set(dados[\"work_status\"])"
      ],
      "metadata": {
        "id": "1c30LcjX0h4L",
        "outputId": "f6504c46-e498-46f6-c404-1e539dbd4caa",
        "colab": {
          "base_uri": "https://localhost:8080/"
        }
      },
      "execution_count": 17,
      "outputs": [
        {
          "output_type": "execute_result",
          "data": {
            "text/plain": [
              "{'Not working', 'Partially working', 'Working', nan}"
            ]
          },
          "metadata": {},
          "execution_count": 17
        }
      ]
    },
    {
      "cell_type": "code",
      "source": [
        "dados[\"work_status\"].value_counts()"
      ],
      "metadata": {
        "id": "3pNvmOUz0iQ3",
        "outputId": "1227ea5a-4ac1-4903-f356-6f529d3789b1",
        "colab": {
          "base_uri": "https://localhost:8080/",
          "height": 210
        }
      },
      "execution_count": 18,
      "outputs": [
        {
          "output_type": "execute_result",
          "data": {
            "text/plain": [
              "work_status\n",
              "Partially working    335\n",
              "Working              320\n",
              "Not working          298\n",
              "Name: count, dtype: int64"
            ],
            "text/html": [
              "<div>\n",
              "<style scoped>\n",
              "    .dataframe tbody tr th:only-of-type {\n",
              "        vertical-align: middle;\n",
              "    }\n",
              "\n",
              "    .dataframe tbody tr th {\n",
              "        vertical-align: top;\n",
              "    }\n",
              "\n",
              "    .dataframe thead th {\n",
              "        text-align: right;\n",
              "    }\n",
              "</style>\n",
              "<table border=\"1\" class=\"dataframe\">\n",
              "  <thead>\n",
              "    <tr style=\"text-align: right;\">\n",
              "      <th></th>\n",
              "      <th>count</th>\n",
              "    </tr>\n",
              "    <tr>\n",
              "      <th>work_status</th>\n",
              "      <th></th>\n",
              "    </tr>\n",
              "  </thead>\n",
              "  <tbody>\n",
              "    <tr>\n",
              "      <th>Partially working</th>\n",
              "      <td>335</td>\n",
              "    </tr>\n",
              "    <tr>\n",
              "      <th>Working</th>\n",
              "      <td>320</td>\n",
              "    </tr>\n",
              "    <tr>\n",
              "      <th>Not working</th>\n",
              "      <td>298</td>\n",
              "    </tr>\n",
              "  </tbody>\n",
              "</table>\n",
              "</div><br><label><b>dtype:</b> int64</label>"
            ]
          },
          "metadata": {},
          "execution_count": 18
        }
      ]
    },
    {
      "cell_type": "markdown",
      "source": [
        "Variável: \"**social_activity_level**\""
      ],
      "metadata": {
        "id": "ANBvxyrdzg_L"
      }
    },
    {
      "cell_type": "code",
      "source": [
        "set(dados[\"social_activity_level\"])"
      ],
      "metadata": {
        "id": "DNEhCJfE0jT-",
        "outputId": "cdd2f2ce-d895-4e19-8c7c-7c8bb3138d0c",
        "colab": {
          "base_uri": "https://localhost:8080/"
        }
      },
      "execution_count": 19,
      "outputs": [
        {
          "output_type": "execute_result",
          "data": {
            "text/plain": [
              "{'High', 'Low', 'Medium', 'Very high', 'Very low', nan}"
            ]
          },
          "metadata": {},
          "execution_count": 19
        }
      ]
    },
    {
      "cell_type": "code",
      "source": [
        "dados[\"social_activity_level\"].value_counts()"
      ],
      "metadata": {
        "id": "KrqX0Stp0oEc",
        "outputId": "4a4d1607-38dd-4111-8565-c923ce6b5878",
        "colab": {
          "base_uri": "https://localhost:8080/",
          "height": 272
        }
      },
      "execution_count": 20,
      "outputs": [
        {
          "output_type": "execute_result",
          "data": {
            "text/plain": [
              "social_activity_level\n",
              "Very low     203\n",
              "High         200\n",
              "Low          190\n",
              "Very high    186\n",
              "Medium       181\n",
              "Name: count, dtype: int64"
            ],
            "text/html": [
              "<div>\n",
              "<style scoped>\n",
              "    .dataframe tbody tr th:only-of-type {\n",
              "        vertical-align: middle;\n",
              "    }\n",
              "\n",
              "    .dataframe tbody tr th {\n",
              "        vertical-align: top;\n",
              "    }\n",
              "\n",
              "    .dataframe thead th {\n",
              "        text-align: right;\n",
              "    }\n",
              "</style>\n",
              "<table border=\"1\" class=\"dataframe\">\n",
              "  <thead>\n",
              "    <tr style=\"text-align: right;\">\n",
              "      <th></th>\n",
              "      <th>count</th>\n",
              "    </tr>\n",
              "    <tr>\n",
              "      <th>social_activity_level</th>\n",
              "      <th></th>\n",
              "    </tr>\n",
              "  </thead>\n",
              "  <tbody>\n",
              "    <tr>\n",
              "      <th>Very low</th>\n",
              "      <td>203</td>\n",
              "    </tr>\n",
              "    <tr>\n",
              "      <th>High</th>\n",
              "      <td>200</td>\n",
              "    </tr>\n",
              "    <tr>\n",
              "      <th>Low</th>\n",
              "      <td>190</td>\n",
              "    </tr>\n",
              "    <tr>\n",
              "      <th>Very high</th>\n",
              "      <td>186</td>\n",
              "    </tr>\n",
              "    <tr>\n",
              "      <th>Medium</th>\n",
              "      <td>181</td>\n",
              "    </tr>\n",
              "  </tbody>\n",
              "</table>\n",
              "</div><br><label><b>dtype:</b> int64</label>"
            ]
          },
          "metadata": {},
          "execution_count": 20
        }
      ]
    },
    {
      "cell_type": "markdown",
      "source": [
        "Variável: \"**exercise_frequency**\""
      ],
      "metadata": {
        "id": "8VbvJW7wzlKM"
      }
    },
    {
      "cell_type": "code",
      "source": [
        "set(dados[\"exercise_frequency\"])"
      ],
      "metadata": {
        "id": "dUDyiG9B0kHl",
        "outputId": "449584a2-60f0-4bbe-c1e4-0fcd79861a46",
        "colab": {
          "base_uri": "https://localhost:8080/"
        }
      },
      "execution_count": 21,
      "outputs": [
        {
          "output_type": "execute_result",
          "data": {
            "text/plain": [
              "{'Daily', 'Never', 'Often', 'Rarely', 'Sometimes', nan}"
            ]
          },
          "metadata": {},
          "execution_count": 21
        }
      ]
    },
    {
      "cell_type": "code",
      "source": [
        "dados[\"exercise_frequency\"].value_counts()"
      ],
      "metadata": {
        "id": "nMzCAnBp0pOD",
        "outputId": "e1e9748d-4899-4886-83b5-9c652173170b",
        "colab": {
          "base_uri": "https://localhost:8080/",
          "height": 272
        }
      },
      "execution_count": 22,
      "outputs": [
        {
          "output_type": "execute_result",
          "data": {
            "text/plain": [
              "exercise_frequency\n",
              "Rarely       210\n",
              "Often        202\n",
              "Daily        194\n",
              "Sometimes    184\n",
              "Never        171\n",
              "Name: count, dtype: int64"
            ],
            "text/html": [
              "<div>\n",
              "<style scoped>\n",
              "    .dataframe tbody tr th:only-of-type {\n",
              "        vertical-align: middle;\n",
              "    }\n",
              "\n",
              "    .dataframe tbody tr th {\n",
              "        vertical-align: top;\n",
              "    }\n",
              "\n",
              "    .dataframe thead th {\n",
              "        text-align: right;\n",
              "    }\n",
              "</style>\n",
              "<table border=\"1\" class=\"dataframe\">\n",
              "  <thead>\n",
              "    <tr style=\"text-align: right;\">\n",
              "      <th></th>\n",
              "      <th>count</th>\n",
              "    </tr>\n",
              "    <tr>\n",
              "      <th>exercise_frequency</th>\n",
              "      <th></th>\n",
              "    </tr>\n",
              "  </thead>\n",
              "  <tbody>\n",
              "    <tr>\n",
              "      <th>Rarely</th>\n",
              "      <td>210</td>\n",
              "    </tr>\n",
              "    <tr>\n",
              "      <th>Often</th>\n",
              "      <td>202</td>\n",
              "    </tr>\n",
              "    <tr>\n",
              "      <th>Daily</th>\n",
              "      <td>194</td>\n",
              "    </tr>\n",
              "    <tr>\n",
              "      <th>Sometimes</th>\n",
              "      <td>184</td>\n",
              "    </tr>\n",
              "    <tr>\n",
              "      <th>Never</th>\n",
              "      <td>171</td>\n",
              "    </tr>\n",
              "  </tbody>\n",
              "</table>\n",
              "</div><br><label><b>dtype:</b> int64</label>"
            ]
          },
          "metadata": {},
          "execution_count": 22
        }
      ]
    },
    {
      "cell_type": "markdown",
      "source": [
        "Variável: \"**meditation_or_mindfulness**\""
      ],
      "metadata": {
        "id": "7xlEG2F40AOW"
      }
    },
    {
      "cell_type": "code",
      "source": [
        "set(dados[\"meditation_or_mindfulness\"])"
      ],
      "metadata": {
        "id": "Uq8UZdKN0k0r",
        "outputId": "7fcf17e8-1285-4453-d5df-4281e3342d90",
        "colab": {
          "base_uri": "https://localhost:8080/"
        }
      },
      "execution_count": 24,
      "outputs": [
        {
          "output_type": "execute_result",
          "data": {
            "text/plain": [
              "{'No', 'Yes', nan}"
            ]
          },
          "metadata": {},
          "execution_count": 24
        }
      ]
    },
    {
      "cell_type": "code",
      "source": [
        "dados[\"meditation_or_mindfulness\"].value_counts()"
      ],
      "metadata": {
        "id": "ZQZT64pp0ptL",
        "outputId": "ea97c9ae-03a8-4ea2-a0a1-21fd3729cefd",
        "colab": {
          "base_uri": "https://localhost:8080/",
          "height": 178
        }
      },
      "execution_count": 25,
      "outputs": [
        {
          "output_type": "execute_result",
          "data": {
            "text/plain": [
              "meditation_or_mindfulness\n",
              "Yes    505\n",
              "No     484\n",
              "Name: count, dtype: int64"
            ],
            "text/html": [
              "<div>\n",
              "<style scoped>\n",
              "    .dataframe tbody tr th:only-of-type {\n",
              "        vertical-align: middle;\n",
              "    }\n",
              "\n",
              "    .dataframe tbody tr th {\n",
              "        vertical-align: top;\n",
              "    }\n",
              "\n",
              "    .dataframe thead th {\n",
              "        text-align: right;\n",
              "    }\n",
              "</style>\n",
              "<table border=\"1\" class=\"dataframe\">\n",
              "  <thead>\n",
              "    <tr style=\"text-align: right;\">\n",
              "      <th></th>\n",
              "      <th>count</th>\n",
              "    </tr>\n",
              "    <tr>\n",
              "      <th>meditation_or_mindfulness</th>\n",
              "      <th></th>\n",
              "    </tr>\n",
              "  </thead>\n",
              "  <tbody>\n",
              "    <tr>\n",
              "      <th>Yes</th>\n",
              "      <td>505</td>\n",
              "    </tr>\n",
              "    <tr>\n",
              "      <th>No</th>\n",
              "      <td>484</td>\n",
              "    </tr>\n",
              "  </tbody>\n",
              "</table>\n",
              "</div><br><label><b>dtype:</b> int64</label>"
            ]
          },
          "metadata": {},
          "execution_count": 25
        }
      ]
    },
    {
      "cell_type": "markdown",
      "source": [
        "Variável: \"**diagnosis**\""
      ],
      "metadata": {
        "id": "oFXZl1n70FkG"
      }
    },
    {
      "cell_type": "code",
      "source": [
        "set(dados[\"diagnosis\"])"
      ],
      "metadata": {
        "id": "jDcLpD5w0lO_",
        "outputId": "93b5f8e4-4acc-4bae-ea08-ce0869e1d56f",
        "colab": {
          "base_uri": "https://localhost:8080/"
        }
      },
      "execution_count": 26,
      "outputs": [
        {
          "output_type": "execute_result",
          "data": {
            "text/plain": [
              "{'Both', 'Depression', 'ME/CFS'}"
            ]
          },
          "metadata": {},
          "execution_count": 26
        }
      ]
    },
    {
      "cell_type": "code",
      "source": [
        "dados[\"diagnosis\"].value_counts()"
      ],
      "metadata": {
        "id": "M_IDocnw0qS0",
        "outputId": "35ddc455-62fe-4df8-fa6a-8e0ea7de383e",
        "colab": {
          "base_uri": "https://localhost:8080/",
          "height": 210
        }
      },
      "execution_count": 27,
      "outputs": [
        {
          "output_type": "execute_result",
          "data": {
            "text/plain": [
              "diagnosis\n",
              "Depression    401\n",
              "ME/CFS        397\n",
              "Both          202\n",
              "Name: count, dtype: int64"
            ],
            "text/html": [
              "<div>\n",
              "<style scoped>\n",
              "    .dataframe tbody tr th:only-of-type {\n",
              "        vertical-align: middle;\n",
              "    }\n",
              "\n",
              "    .dataframe tbody tr th {\n",
              "        vertical-align: top;\n",
              "    }\n",
              "\n",
              "    .dataframe thead th {\n",
              "        text-align: right;\n",
              "    }\n",
              "</style>\n",
              "<table border=\"1\" class=\"dataframe\">\n",
              "  <thead>\n",
              "    <tr style=\"text-align: right;\">\n",
              "      <th></th>\n",
              "      <th>count</th>\n",
              "    </tr>\n",
              "    <tr>\n",
              "      <th>diagnosis</th>\n",
              "      <th></th>\n",
              "    </tr>\n",
              "  </thead>\n",
              "  <tbody>\n",
              "    <tr>\n",
              "      <th>Depression</th>\n",
              "      <td>401</td>\n",
              "    </tr>\n",
              "    <tr>\n",
              "      <th>ME/CFS</th>\n",
              "      <td>397</td>\n",
              "    </tr>\n",
              "    <tr>\n",
              "      <th>Both</th>\n",
              "      <td>202</td>\n",
              "    </tr>\n",
              "  </tbody>\n",
              "</table>\n",
              "</div><br><label><b>dtype:</b> int64</label>"
            ]
          },
          "metadata": {},
          "execution_count": 27
        }
      ]
    },
    {
      "cell_type": "markdown",
      "source": [
        "# **Tratando inconsistências na base**"
      ],
      "metadata": {
        "id": "x1nKoYe_tZW6"
      }
    },
    {
      "cell_type": "code",
      "source": [
        "dados.isnull().sum()"
      ],
      "metadata": {
        "colab": {
          "base_uri": "https://localhost:8080/",
          "height": 586
        },
        "id": "NVgB3wO2ulFb",
        "outputId": "c7a074f2-716e-4362-80e7-5cb2c3d1fe19"
      },
      "execution_count": 13,
      "outputs": [
        {
          "output_type": "execute_result",
          "data": {
            "text/plain": [
              "age                              0\n",
              "gender                           0\n",
              "sleep_quality_index             47\n",
              "brain_fog_level                 48\n",
              "physical_pain_score             34\n",
              "stress_level                    48\n",
              "depression_phq9_score           22\n",
              "fatigue_severity_scale_score    21\n",
              "pem_duration_hours              24\n",
              "hours_of_sleep_per_night        21\n",
              "pem_present                      0\n",
              "work_status                     47\n",
              "social_activity_level           40\n",
              "exercise_frequency              39\n",
              "meditation_or_mindfulness       11\n",
              "diagnosis                        0\n",
              "dtype: int64"
            ],
            "text/html": [
              "<div>\n",
              "<style scoped>\n",
              "    .dataframe tbody tr th:only-of-type {\n",
              "        vertical-align: middle;\n",
              "    }\n",
              "\n",
              "    .dataframe tbody tr th {\n",
              "        vertical-align: top;\n",
              "    }\n",
              "\n",
              "    .dataframe thead th {\n",
              "        text-align: right;\n",
              "    }\n",
              "</style>\n",
              "<table border=\"1\" class=\"dataframe\">\n",
              "  <thead>\n",
              "    <tr style=\"text-align: right;\">\n",
              "      <th></th>\n",
              "      <th>0</th>\n",
              "    </tr>\n",
              "  </thead>\n",
              "  <tbody>\n",
              "    <tr>\n",
              "      <th>age</th>\n",
              "      <td>0</td>\n",
              "    </tr>\n",
              "    <tr>\n",
              "      <th>gender</th>\n",
              "      <td>0</td>\n",
              "    </tr>\n",
              "    <tr>\n",
              "      <th>sleep_quality_index</th>\n",
              "      <td>47</td>\n",
              "    </tr>\n",
              "    <tr>\n",
              "      <th>brain_fog_level</th>\n",
              "      <td>48</td>\n",
              "    </tr>\n",
              "    <tr>\n",
              "      <th>physical_pain_score</th>\n",
              "      <td>34</td>\n",
              "    </tr>\n",
              "    <tr>\n",
              "      <th>stress_level</th>\n",
              "      <td>48</td>\n",
              "    </tr>\n",
              "    <tr>\n",
              "      <th>depression_phq9_score</th>\n",
              "      <td>22</td>\n",
              "    </tr>\n",
              "    <tr>\n",
              "      <th>fatigue_severity_scale_score</th>\n",
              "      <td>21</td>\n",
              "    </tr>\n",
              "    <tr>\n",
              "      <th>pem_duration_hours</th>\n",
              "      <td>24</td>\n",
              "    </tr>\n",
              "    <tr>\n",
              "      <th>hours_of_sleep_per_night</th>\n",
              "      <td>21</td>\n",
              "    </tr>\n",
              "    <tr>\n",
              "      <th>pem_present</th>\n",
              "      <td>0</td>\n",
              "    </tr>\n",
              "    <tr>\n",
              "      <th>work_status</th>\n",
              "      <td>47</td>\n",
              "    </tr>\n",
              "    <tr>\n",
              "      <th>social_activity_level</th>\n",
              "      <td>40</td>\n",
              "    </tr>\n",
              "    <tr>\n",
              "      <th>exercise_frequency</th>\n",
              "      <td>39</td>\n",
              "    </tr>\n",
              "    <tr>\n",
              "      <th>meditation_or_mindfulness</th>\n",
              "      <td>11</td>\n",
              "    </tr>\n",
              "    <tr>\n",
              "      <th>diagnosis</th>\n",
              "      <td>0</td>\n",
              "    </tr>\n",
              "  </tbody>\n",
              "</table>\n",
              "</div><br><label><b>dtype:</b> int64</label>"
            ]
          },
          "metadata": {},
          "execution_count": 13
        }
      ]
    },
    {
      "cell_type": "markdown",
      "source": [
        "# **Análise exploratória dos dados**"
      ],
      "metadata": {
        "id": "xWZFeSm-teFP"
      }
    },
    {
      "cell_type": "markdown",
      "source": [
        "# **Criação dos modelos de Machine Learning**"
      ],
      "metadata": {
        "id": "ovUFqIBito5_"
      }
    },
    {
      "cell_type": "markdown",
      "source": [
        "**Separação da base de treino e de teste**"
      ],
      "metadata": {
        "id": "US7lDFvxt0RD"
      }
    }
  ]
}